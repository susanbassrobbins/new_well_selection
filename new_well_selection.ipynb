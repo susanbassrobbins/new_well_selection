{
 "cells": [
  {
   "cell_type": "markdown",
   "metadata": {},
   "source": [
    "# OilyGiant Mining New Well Selection\n",
    "\n",
    "Our task is to find the best place for a new well. We will collect the oil well parameters in the selected region, build a model for predicting the volume of reserves in the new wells, pick the oil wells with the highest estimated values, and pick the region with the highest total profit for the selected oil wells. We have data on oil samples in three regions that we will be analyzing to pick the region with the highest profit margin."
   ]
  },
  {
   "cell_type": "markdown",
   "metadata": {},
   "source": [
    "## Download and prepare the data"
   ]
  },
  {
   "cell_type": "code",
   "execution_count": 1,
   "metadata": {},
   "outputs": [],
   "source": [
    "#import all of the libraries and packages we will be using in this project\n",
    "import pandas as pd\n",
    "import numpy as np\n",
    "from numpy.random import RandomState\n",
    "import matplotlib.pyplot as plt\n",
    "import seaborn as sns\n",
    "from sklearn.linear_model import LinearRegression\n",
    "from sklearn.model_selection import train_test_split\n",
    "from sklearn.metrics import mean_squared_error\n",
    "from sklearn.preprocessing import StandardScaler"
   ]
  },
  {
   "cell_type": "code",
   "execution_count": 2,
   "metadata": {},
   "outputs": [],
   "source": [
    "#import the data sets\n",
    "df_0 = pd.read_csv('C:/Users/susan/Documents/TripleTen/new_well_selection/geo_data_0.csv')\n",
    "df_1 = pd.read_csv('C:/Users/susan/Documents/TripleTen/new_well_selection/geo_data_1.csv')\n",
    "df_2 = pd.read_csv('C:/Users/susan/Documents/TripleTen/new_well_selection/geo_data_2.csv')"
   ]
  },
  {
   "cell_type": "code",
   "execution_count": 3,
   "metadata": {},
   "outputs": [
    {
     "name": "stdout",
     "output_type": "stream",
     "text": [
      "<class 'pandas.core.frame.DataFrame'>\n",
      "RangeIndex: 100000 entries, 0 to 99999\n",
      "Data columns (total 5 columns):\n",
      " #   Column   Non-Null Count   Dtype  \n",
      "---  ------   --------------   -----  \n",
      " 0   id       100000 non-null  object \n",
      " 1   f0       100000 non-null  float64\n",
      " 2   f1       100000 non-null  float64\n",
      " 3   f2       100000 non-null  float64\n",
      " 4   product  100000 non-null  float64\n",
      "dtypes: float64(4), object(1)\n",
      "memory usage: 3.8+ MB\n"
     ]
    }
   ],
   "source": [
    "df_0.info()"
   ]
  },
  {
   "cell_type": "code",
   "execution_count": 4,
   "metadata": {},
   "outputs": [
    {
     "data": {
      "text/html": [
       "<div>\n",
       "<style scoped>\n",
       "    .dataframe tbody tr th:only-of-type {\n",
       "        vertical-align: middle;\n",
       "    }\n",
       "\n",
       "    .dataframe tbody tr th {\n",
       "        vertical-align: top;\n",
       "    }\n",
       "\n",
       "    .dataframe thead th {\n",
       "        text-align: right;\n",
       "    }\n",
       "</style>\n",
       "<table border=\"1\" class=\"dataframe\">\n",
       "  <thead>\n",
       "    <tr style=\"text-align: right;\">\n",
       "      <th></th>\n",
       "      <th>id</th>\n",
       "      <th>f0</th>\n",
       "      <th>f1</th>\n",
       "      <th>f2</th>\n",
       "      <th>product</th>\n",
       "    </tr>\n",
       "  </thead>\n",
       "  <tbody>\n",
       "    <tr>\n",
       "      <th>0</th>\n",
       "      <td>txEyH</td>\n",
       "      <td>0.705745</td>\n",
       "      <td>-0.497823</td>\n",
       "      <td>1.221170</td>\n",
       "      <td>105.280062</td>\n",
       "    </tr>\n",
       "    <tr>\n",
       "      <th>1</th>\n",
       "      <td>2acmU</td>\n",
       "      <td>1.334711</td>\n",
       "      <td>-0.340164</td>\n",
       "      <td>4.365080</td>\n",
       "      <td>73.037750</td>\n",
       "    </tr>\n",
       "    <tr>\n",
       "      <th>2</th>\n",
       "      <td>409Wp</td>\n",
       "      <td>1.022732</td>\n",
       "      <td>0.151990</td>\n",
       "      <td>1.419926</td>\n",
       "      <td>85.265647</td>\n",
       "    </tr>\n",
       "    <tr>\n",
       "      <th>3</th>\n",
       "      <td>iJLyR</td>\n",
       "      <td>-0.032172</td>\n",
       "      <td>0.139033</td>\n",
       "      <td>2.978566</td>\n",
       "      <td>168.620776</td>\n",
       "    </tr>\n",
       "    <tr>\n",
       "      <th>4</th>\n",
       "      <td>Xdl7t</td>\n",
       "      <td>1.988431</td>\n",
       "      <td>0.155413</td>\n",
       "      <td>4.751769</td>\n",
       "      <td>154.036647</td>\n",
       "    </tr>\n",
       "  </tbody>\n",
       "</table>\n",
       "</div>"
      ],
      "text/plain": [
       "      id        f0        f1        f2     product\n",
       "0  txEyH  0.705745 -0.497823  1.221170  105.280062\n",
       "1  2acmU  1.334711 -0.340164  4.365080   73.037750\n",
       "2  409Wp  1.022732  0.151990  1.419926   85.265647\n",
       "3  iJLyR -0.032172  0.139033  2.978566  168.620776\n",
       "4  Xdl7t  1.988431  0.155413  4.751769  154.036647"
      ]
     },
     "execution_count": 4,
     "metadata": {},
     "output_type": "execute_result"
    }
   ],
   "source": [
    "df_0.head()"
   ]
  },
  {
   "cell_type": "code",
   "execution_count": 5,
   "metadata": {},
   "outputs": [
    {
     "name": "stdout",
     "output_type": "stream",
     "text": [
      "<class 'pandas.core.frame.DataFrame'>\n",
      "RangeIndex: 100000 entries, 0 to 99999\n",
      "Data columns (total 5 columns):\n",
      " #   Column   Non-Null Count   Dtype  \n",
      "---  ------   --------------   -----  \n",
      " 0   id       100000 non-null  object \n",
      " 1   f0       100000 non-null  float64\n",
      " 2   f1       100000 non-null  float64\n",
      " 3   f2       100000 non-null  float64\n",
      " 4   product  100000 non-null  float64\n",
      "dtypes: float64(4), object(1)\n",
      "memory usage: 3.8+ MB\n"
     ]
    }
   ],
   "source": [
    "df_1.info()"
   ]
  },
  {
   "cell_type": "code",
   "execution_count": 6,
   "metadata": {},
   "outputs": [
    {
     "data": {
      "text/html": [
       "<div>\n",
       "<style scoped>\n",
       "    .dataframe tbody tr th:only-of-type {\n",
       "        vertical-align: middle;\n",
       "    }\n",
       "\n",
       "    .dataframe tbody tr th {\n",
       "        vertical-align: top;\n",
       "    }\n",
       "\n",
       "    .dataframe thead th {\n",
       "        text-align: right;\n",
       "    }\n",
       "</style>\n",
       "<table border=\"1\" class=\"dataframe\">\n",
       "  <thead>\n",
       "    <tr style=\"text-align: right;\">\n",
       "      <th></th>\n",
       "      <th>id</th>\n",
       "      <th>f0</th>\n",
       "      <th>f1</th>\n",
       "      <th>f2</th>\n",
       "      <th>product</th>\n",
       "    </tr>\n",
       "  </thead>\n",
       "  <tbody>\n",
       "    <tr>\n",
       "      <th>0</th>\n",
       "      <td>kBEdx</td>\n",
       "      <td>-15.001348</td>\n",
       "      <td>-8.276000</td>\n",
       "      <td>-0.005876</td>\n",
       "      <td>3.179103</td>\n",
       "    </tr>\n",
       "    <tr>\n",
       "      <th>1</th>\n",
       "      <td>62mP7</td>\n",
       "      <td>14.272088</td>\n",
       "      <td>-3.475083</td>\n",
       "      <td>0.999183</td>\n",
       "      <td>26.953261</td>\n",
       "    </tr>\n",
       "    <tr>\n",
       "      <th>2</th>\n",
       "      <td>vyE1P</td>\n",
       "      <td>6.263187</td>\n",
       "      <td>-5.948386</td>\n",
       "      <td>5.001160</td>\n",
       "      <td>134.766305</td>\n",
       "    </tr>\n",
       "    <tr>\n",
       "      <th>3</th>\n",
       "      <td>KcrkZ</td>\n",
       "      <td>-13.081196</td>\n",
       "      <td>-11.506057</td>\n",
       "      <td>4.999415</td>\n",
       "      <td>137.945408</td>\n",
       "    </tr>\n",
       "    <tr>\n",
       "      <th>4</th>\n",
       "      <td>AHL4O</td>\n",
       "      <td>12.702195</td>\n",
       "      <td>-8.147433</td>\n",
       "      <td>5.004363</td>\n",
       "      <td>134.766305</td>\n",
       "    </tr>\n",
       "  </tbody>\n",
       "</table>\n",
       "</div>"
      ],
      "text/plain": [
       "      id         f0         f1        f2     product\n",
       "0  kBEdx -15.001348  -8.276000 -0.005876    3.179103\n",
       "1  62mP7  14.272088  -3.475083  0.999183   26.953261\n",
       "2  vyE1P   6.263187  -5.948386  5.001160  134.766305\n",
       "3  KcrkZ -13.081196 -11.506057  4.999415  137.945408\n",
       "4  AHL4O  12.702195  -8.147433  5.004363  134.766305"
      ]
     },
     "execution_count": 6,
     "metadata": {},
     "output_type": "execute_result"
    }
   ],
   "source": [
    "df_1.head()"
   ]
  },
  {
   "cell_type": "code",
   "execution_count": 7,
   "metadata": {},
   "outputs": [
    {
     "name": "stdout",
     "output_type": "stream",
     "text": [
      "<class 'pandas.core.frame.DataFrame'>\n",
      "RangeIndex: 100000 entries, 0 to 99999\n",
      "Data columns (total 5 columns):\n",
      " #   Column   Non-Null Count   Dtype  \n",
      "---  ------   --------------   -----  \n",
      " 0   id       100000 non-null  object \n",
      " 1   f0       100000 non-null  float64\n",
      " 2   f1       100000 non-null  float64\n",
      " 3   f2       100000 non-null  float64\n",
      " 4   product  100000 non-null  float64\n",
      "dtypes: float64(4), object(1)\n",
      "memory usage: 3.8+ MB\n"
     ]
    }
   ],
   "source": [
    "df_2.info()"
   ]
  },
  {
   "cell_type": "code",
   "execution_count": 8,
   "metadata": {},
   "outputs": [
    {
     "data": {
      "text/html": [
       "<div>\n",
       "<style scoped>\n",
       "    .dataframe tbody tr th:only-of-type {\n",
       "        vertical-align: middle;\n",
       "    }\n",
       "\n",
       "    .dataframe tbody tr th {\n",
       "        vertical-align: top;\n",
       "    }\n",
       "\n",
       "    .dataframe thead th {\n",
       "        text-align: right;\n",
       "    }\n",
       "</style>\n",
       "<table border=\"1\" class=\"dataframe\">\n",
       "  <thead>\n",
       "    <tr style=\"text-align: right;\">\n",
       "      <th></th>\n",
       "      <th>id</th>\n",
       "      <th>f0</th>\n",
       "      <th>f1</th>\n",
       "      <th>f2</th>\n",
       "      <th>product</th>\n",
       "    </tr>\n",
       "  </thead>\n",
       "  <tbody>\n",
       "    <tr>\n",
       "      <th>0</th>\n",
       "      <td>fwXo0</td>\n",
       "      <td>-1.146987</td>\n",
       "      <td>0.963328</td>\n",
       "      <td>-0.828965</td>\n",
       "      <td>27.758673</td>\n",
       "    </tr>\n",
       "    <tr>\n",
       "      <th>1</th>\n",
       "      <td>WJtFt</td>\n",
       "      <td>0.262778</td>\n",
       "      <td>0.269839</td>\n",
       "      <td>-2.530187</td>\n",
       "      <td>56.069697</td>\n",
       "    </tr>\n",
       "    <tr>\n",
       "      <th>2</th>\n",
       "      <td>ovLUW</td>\n",
       "      <td>0.194587</td>\n",
       "      <td>0.289035</td>\n",
       "      <td>-5.586433</td>\n",
       "      <td>62.871910</td>\n",
       "    </tr>\n",
       "    <tr>\n",
       "      <th>3</th>\n",
       "      <td>q6cA6</td>\n",
       "      <td>2.236060</td>\n",
       "      <td>-0.553760</td>\n",
       "      <td>0.930038</td>\n",
       "      <td>114.572842</td>\n",
       "    </tr>\n",
       "    <tr>\n",
       "      <th>4</th>\n",
       "      <td>WPMUX</td>\n",
       "      <td>-0.515993</td>\n",
       "      <td>1.716266</td>\n",
       "      <td>5.899011</td>\n",
       "      <td>149.600746</td>\n",
       "    </tr>\n",
       "  </tbody>\n",
       "</table>\n",
       "</div>"
      ],
      "text/plain": [
       "      id        f0        f1        f2     product\n",
       "0  fwXo0 -1.146987  0.963328 -0.828965   27.758673\n",
       "1  WJtFt  0.262778  0.269839 -2.530187   56.069697\n",
       "2  ovLUW  0.194587  0.289035 -5.586433   62.871910\n",
       "3  q6cA6  2.236060 -0.553760  0.930038  114.572842\n",
       "4  WPMUX -0.515993  1.716266  5.899011  149.600746"
      ]
     },
     "execution_count": 8,
     "metadata": {},
     "output_type": "execute_result"
    }
   ],
   "source": [
    "df_2.head()"
   ]
  },
  {
   "cell_type": "code",
   "execution_count": 9,
   "metadata": {},
   "outputs": [
    {
     "data": {
      "text/plain": [
       "0"
      ]
     },
     "execution_count": 9,
     "metadata": {},
     "output_type": "execute_result"
    }
   ],
   "source": [
    "#check for duplicates\n",
    "df_0.duplicated().sum()"
   ]
  },
  {
   "cell_type": "code",
   "execution_count": 10,
   "metadata": {},
   "outputs": [
    {
     "data": {
      "text/plain": [
       "0"
      ]
     },
     "execution_count": 10,
     "metadata": {},
     "output_type": "execute_result"
    }
   ],
   "source": [
    "df_1.duplicated().sum()"
   ]
  },
  {
   "cell_type": "code",
   "execution_count": 11,
   "metadata": {},
   "outputs": [
    {
     "data": {
      "text/plain": [
       "0"
      ]
     },
     "execution_count": 11,
     "metadata": {},
     "output_type": "execute_result"
    }
   ],
   "source": [
    "df_2.duplicated().sum()"
   ]
  },
  {
   "cell_type": "markdown",
   "metadata": {},
   "source": [
    "The data for each of the three regions has no missing values or duplicates, and all column names and datatypes appear appropriate. The id column will not be helpful in our model, so we will drop those columns in each data frame."
   ]
  },
  {
   "cell_type": "code",
   "execution_count": 12,
   "metadata": {},
   "outputs": [
    {
     "name": "stdout",
     "output_type": "stream",
     "text": [
      "<class 'pandas.core.frame.DataFrame'>\n",
      "RangeIndex: 100000 entries, 0 to 99999\n",
      "Data columns (total 4 columns):\n",
      " #   Column   Non-Null Count   Dtype  \n",
      "---  ------   --------------   -----  \n",
      " 0   f0       100000 non-null  float64\n",
      " 1   f1       100000 non-null  float64\n",
      " 2   f2       100000 non-null  float64\n",
      " 3   product  100000 non-null  float64\n",
      "dtypes: float64(4)\n",
      "memory usage: 3.1 MB\n"
     ]
    }
   ],
   "source": [
    "df_0 = df_0.drop('id', axis=1)\n",
    "df_1 = df_1.drop('id', axis=1)\n",
    "df_2 = df_2.drop('id', axis=1)\n",
    "df_0.info()"
   ]
  },
  {
   "cell_type": "code",
   "execution_count": 13,
   "metadata": {},
   "outputs": [
    {
     "data": {
      "image/png": "[encoded data removed]",
      "text/plain": [
       "<Figure size 640x480 with 1 Axes>"
      ]
     },
     "metadata": {},
     "output_type": "display_data"
    },
    {
     "data": {
      "image/png": "[encoded data removed]",
      "text/plain": [
       "<Figure size 640x480 with 1 Axes>"
      ]
     },
     "metadata": {},
     "output_type": "display_data"
    },
    {
     "data": {
      "image/png": "[encoded data removed]",
      "text/plain": [
       "<Figure size 640x480 with 1 Axes>"
      ]
     },
     "metadata": {},
     "output_type": "display_data"
    }
   ],
   "source": [
    "#plot a histogram of the distribution of product volume in each dataframe\n",
    "\n",
    "sns.histplot(data=df_0, x='product', kde=True)\n",
    "plt.title(\"Distribution of Product in Region 0\")\n",
    "plt.xlabel('Volume of Product')\n",
    "plt.ylabel('Frequency')\n",
    "plt.show()\n",
    "\n",
    "sns.histplot(data=df_1, x='product', color='purple', kde=True)\n",
    "plt.title(\"Distribution of Product in Region 1\")\n",
    "plt.xlabel('Volume of Product')\n",
    "plt.ylabel('Frequency')\n",
    "plt.show()\n",
    "\n",
    "sns.histplot(data=df_2, x='product', color='green', kde=True)\n",
    "plt.title(\"Distribution of Product in Region 2\")\n",
    "plt.xlabel('Volume of Product')\n",
    "plt.ylabel('Frequency')\n",
    "plt.show()"
   ]
  },
  {
   "cell_type": "markdown",
   "metadata": {},
   "source": [
    "The distribution appears to be normal in both Region 0 and Region 2. The distribution for Region 1 appears to be discrete, which could be from the procedures of how the data was collected from those oil wells such as rounding the data or having distinct categories. However, there appear to be no outliers or other anomalies that would skew the data in any of the regions, so we can feel comfortable that we are ready to move forward with training our models."
   ]
  },
  {
   "cell_type": "markdown",
   "metadata": {},
   "source": [
    "## Train and test the model for each region"
   ]
  },
  {
   "cell_type": "markdown",
   "metadata": {},
   "source": [
    "Region 0"
   ]
  },
  {
   "cell_type": "code",
   "execution_count": 14,
   "metadata": {},
   "outputs": [
    {
     "name": "stdout",
     "output_type": "stream",
     "text": [
      "RMSE: 37.562394183637785\n",
      "Average volume of predicted reserves: 92.43045952558441\n"
     ]
    }
   ],
   "source": [
    "#split the data in to a training set and validation set at a ratio of 75:25\n",
    "\n",
    "#extract the features and target\n",
    "features_0 = df_0.drop(['product'], axis=1)\n",
    "target_0 = df_0['product']\n",
    "\n",
    "#split the features and targets into training and validation sets\n",
    "features_0_train, features_0_valid, target_0_train, target_0_valid = train_test_split(features_0, target_0, test_size=0.25, random_state=1234)\n",
    "\n",
    "#train the model and make predictions for the validation set\n",
    "model_0 = LinearRegression().fit(features_0_train, target_0_train)\n",
    "predictions_0_valid = model_0.predict(features_0_valid)\n",
    "\n",
    "#print the average volume of predicted reserves and model RMSE\n",
    "result_0 = mean_squared_error(target_0_valid, predictions_0_valid)**0.5\n",
    "print(\"RMSE:\", result_0)\n",
    "print(\"Average volume of predicted reserves:\", predictions_0_valid.mean())"
   ]
  },
  {
   "cell_type": "markdown",
   "metadata": {},
   "source": [
    "Region 1"
   ]
  },
  {
   "cell_type": "code",
   "execution_count": 15,
   "metadata": {},
   "outputs": [
    {
     "name": "stdout",
     "output_type": "stream",
     "text": [
      "RMSE: 0.8939344738117712\n",
      "Average volume of predicted reserves: 68.80248249798366\n"
     ]
    }
   ],
   "source": [
    "#split the data in to a training set and validation set at a ratio of 75:25\n",
    "features_1 = df_1.drop(['product'], axis=1)\n",
    "target_1 = df_1['product']\n",
    "\n",
    "#split the features and targets into training and validation sets\n",
    "features_1_train, features_1_valid, target_1_train, target_1_valid = train_test_split(features_1, target_1, test_size=0.25, random_state=1234)\n",
    "\n",
    "#train the model and make predictions for the validation set\n",
    "model_1 = LinearRegression().fit(features_1_train, target_1_train)\n",
    "predictions_1_valid = model_1.predict(features_1_valid)\n",
    "\n",
    "#print the average volume of predicted reserves and model RMSE\n",
    "result_1 = mean_squared_error(target_1_valid, predictions_1_valid)**0.5\n",
    "print(\"RMSE:\", result_1)\n",
    "print(\"Average volume of predicted reserves:\", predictions_1_valid.mean())"
   ]
  },
  {
   "cell_type": "markdown",
   "metadata": {},
   "source": [
    "Region 2"
   ]
  },
  {
   "cell_type": "code",
   "execution_count": 16,
   "metadata": {},
   "outputs": [
    {
     "name": "stdout",
     "output_type": "stream",
     "text": [
      "RMSE: 40.10318099258418\n",
      "Average volume of predicted reserves: 94.91573817913459\n"
     ]
    }
   ],
   "source": [
    "#split the data in to a training set and validation set at a ratio of 75:25\n",
    "features_2 = df_2.drop(['product'], axis=1)\n",
    "target_2 = df_2['product']\n",
    "\n",
    "#split the features and targets into training and validation sets\n",
    "features_2_train, features_2_valid, target_2_train, target_2_valid = train_test_split(features_2, target_2, test_size=0.25, random_state=1234)\n",
    "\n",
    "#train the model and make predictions for the validation set\n",
    "model_2 = LinearRegression().fit(features_2_train, target_2_train)\n",
    "predictions_2_valid = model_2.predict(features_2_valid)\n",
    "\n",
    "#print the average volume of predicted reserves and model RMSE\n",
    "result_2 = mean_squared_error(target_2_valid, predictions_2_valid)**0.5\n",
    "print(\"RMSE:\", result_2)\n",
    "print(\"Average volume of predicted reserves:\", predictions_2_valid.mean())"
   ]
  },
  {
   "cell_type": "code",
   "execution_count": 17,
   "metadata": {},
   "outputs": [
    {
     "data": {
      "text/plain": [
       "92.50000000000001"
      ]
     },
     "execution_count": 17,
     "metadata": {},
     "output_type": "execute_result"
    }
   ],
   "source": [
    "target_0.mean()"
   ]
  },
  {
   "cell_type": "code",
   "execution_count": 18,
   "metadata": {},
   "outputs": [
    {
     "data": {
      "text/plain": [
       "68.82500000000002"
      ]
     },
     "execution_count": 18,
     "metadata": {},
     "output_type": "execute_result"
    }
   ],
   "source": [
    "target_1.mean()"
   ]
  },
  {
   "cell_type": "code",
   "execution_count": 19,
   "metadata": {},
   "outputs": [
    {
     "data": {
      "text/plain": [
       "95.00000000000004"
      ]
     },
     "execution_count": 19,
     "metadata": {},
     "output_type": "execute_result"
    }
   ],
   "source": [
    "target_2.mean()"
   ]
  },
  {
   "cell_type": "markdown",
   "metadata": {},
   "source": [
    "The RMSE value for Region 0 37.56, while the average predicted volume is 92.4. Region 1 has an RMSE value of 0.89 with an average predicted volume of 68.8, and Region 2 has an RMSE of 40.10 with an average predicted volume of 94.9. This shows that the RMSE is very high for Region 0 and 2, and those models are not performing as accurately as the model for Region 1 with a much smaller RMSE. The mean predicted volume does fall into alignment with the actual average of volume produced in each region, so all of the models are working."
   ]
  },
  {
   "cell_type": "markdown",
   "metadata": {},
   "source": [
    "## Prepare for Profit Calculation"
   ]
  },
  {
   "cell_type": "code",
   "execution_count": 20,
   "metadata": {},
   "outputs": [],
   "source": [
    "#Store all key values for calculations in separate variables\n",
    "revenue_per_barrel = 4500\n",
    "cost_per_well = 500000\n",
    "budget = 100_000_000\n",
    "top_wells = 200\n",
    "num_wells=500"
   ]
  },
  {
   "cell_type": "code",
   "execution_count": 21,
   "metadata": {},
   "outputs": [
    {
     "data": {
      "text/plain": [
       "111.11111111111111"
      ]
     },
     "execution_count": 21,
     "metadata": {},
     "output_type": "execute_result"
    }
   ],
   "source": [
    "#Calculate sufficient volume of reserves sufficient for developing a new well without losses\n",
    "break_even_volume = cost_per_well / revenue_per_barrel\n",
    "break_even_volume"
   ]
  },
  {
   "cell_type": "code",
   "execution_count": 22,
   "metadata": {},
   "outputs": [
    {
     "name": "stdout",
     "output_type": "stream",
     "text": [
      "Break-even volume needed: 111.11111111111111\n",
      "Average reserves in Region 0: 92.50000000000001\n",
      "Average reserves in Region 1: 68.82500000000002\n",
      "Average reserves in Region 2: 95.00000000000004\n"
     ]
    }
   ],
   "source": [
    "#Compare the break-even value with the average volume of reserves in each region\n",
    "ave_reserves_0 = target_0.mean()\n",
    "ave_reserves_1 = target_1.mean()\n",
    "ave_reserves_2 = target_2.mean()\n",
    "\n",
    "print(\"Break-even volume needed:\", break_even_volume)\n",
    "print(\"Average reserves in Region 0:\", ave_reserves_0)\n",
    "print(\"Average reserves in Region 1:\", ave_reserves_1)\n",
    "print(\"Average reserves in Region 2:\", ave_reserves_2)"
   ]
  },
  {
   "cell_type": "markdown",
   "metadata": {},
   "source": [
    "It looks like Region 2 has the closest amount of reserves to reach the break-even volume."
   ]
  },
  {
   "cell_type": "markdown",
   "metadata": {},
   "source": [
    "## Calculate Profit from a set of selected oil wells and model predictions\n"
   ]
  },
  {
   "cell_type": "code",
   "execution_count": 23,
   "metadata": {},
   "outputs": [
    {
     "name": "stdout",
     "output_type": "stream",
     "text": [
      "Region Region 0\n",
      "Calculated profit: 34,240,263.20\n",
      "Total Predicted Reserves: 30,849.15\n",
      "Total Actual Reserves: 29,831.17\n",
      "\n",
      "Region Region 1\n",
      "Calculated profit: 24,150,866.97\n",
      "Total Predicted Reserves: 27,738.86\n",
      "Total Actual Reserves: 27,589.08\n",
      "\n",
      "Region Region 2\n",
      "Calculated profit: 25,549,554.24\n",
      "Total Predicted Reserves: 29,996.33\n",
      "Total Actual Reserves: 27,899.90\n",
      "\n"
     ]
    }
   ],
   "source": [
    "#write a function to calculate profit from a set of selected oil wells and model predictions\n",
    "regions = [(predictions_0_valid, target_0_valid, 'Region 0'), (predictions_1_valid, target_1_valid, 'Region 1'), (predictions_2_valid, target_2_valid, 'Region 2')]\n",
    "\n",
    "def calculate_profit(predictions, targets, cost_per_well=500000, top_wells=200):\n",
    "    results = pd.DataFrame({'predicted': predictions, 'actual': targets})\n",
    "    \n",
    "    selected_wells = results.sort_values(by='predicted', ascending=False).head(top_wells)\n",
    "    \n",
    "    total_predicted_reserves = selected_wells['predicted'].sum()\n",
    "    total_actual_reserves = selected_wells['actual'].sum()\n",
    "   \n",
    "    profit = (total_actual_reserves * revenue_per_barrel) - (top_wells * cost_per_well)\n",
    "        \n",
    "    return profit, total_predicted_reserves, total_actual_reserves\n",
    "    \n",
    "for predictions, targets, region_name in regions:\n",
    "    profit, total_predicted_reserves, total_actual_reserves = calculate_profit(predictions, targets)\n",
    "    \n",
    "    print(f'Region {region_name}')\n",
    "    print(f'Calculated profit: {profit:,.2f}')\n",
    "    print(f'Total Predicted Reserves: {total_predicted_reserves:,.2f}')\n",
    "    print(f'Total Actual Reserves: {total_actual_reserves:,.2f}\\n')      \n",
    "    "
   ]
  },
  {
   "cell_type": "markdown",
   "metadata": {},
   "source": [
    "Region 0 was predicted to have the hightest amount of reserves, and the profit produced in its top 200 wells is the highest of all the regions at $34,240,263.20."
   ]
  },
  {
   "cell_type": "markdown",
   "metadata": {},
   "source": [
    "## Calculate Risks and Profit for each region"
   ]
  },
  {
   "cell_type": "code",
   "execution_count": 24,
   "metadata": {},
   "outputs": [
    {
     "name": "stdout",
     "output_type": "stream",
     "text": [
      "\n",
      "--- Regional Profit Analysis ---\n",
      "\n",
      "Region 0:\n",
      " Average Profit: $4,095,020.49\n",
      " 95% Confidence Interval: $-841,858.65, $9,191,835.91\n",
      " Risk of Loss: 5.70%\n",
      "\n",
      "Region 1:\n",
      " Average Profit: $4,345,863.50\n",
      " 95% Confidence Interval: $208,627.29, $8,130,242.54\n",
      " Risk of Loss: 2.20%\n",
      "\n",
      "Region 2:\n",
      " Average Profit: $3,439,046.50\n",
      " 95% Confidence Interval: $-1,465,474.25, $8,340,272.63\n",
      " Risk of Loss: 9.80%\n",
      "\n"
     ]
    }
   ],
   "source": [
    "#Use bootstrapping with 1000 samples to find the distribution of profit, average profit, 95% confidence interval, and risk of losses\n",
    "\n",
    "def bootstrap_profit(predictions, targets, cost_per_well, sample_size=500, n_bootstrap=1000):\n",
    "    profits = []\n",
    "    \n",
    "    for i in range(n_bootstrap):\n",
    "        boot_df = pd.DataFrame({'predicted': predictions, 'actual': targets})   \n",
    "        sampled_predictions = boot_df['predicted'].sample(sample_size, replace=True)\n",
    "        sampled_targets = boot_df['actual'].loc[sampled_predictions.index]\n",
    "        profit, _, _ = calculate_profit(sampled_predictions, sampled_targets, cost_per_well, top_wells=200)\n",
    "        profits.append(profit)\n",
    "        \n",
    "    return pd.Series(profits)    \n",
    "   \n",
    "def analyze_profits(profits):\n",
    "    average_profit = profits.mean()\n",
    "    ci_lower = profits.quantile(0.025)\n",
    "    ci_upper = profits.quantile(0.975)\n",
    "    risk_loss = (profits < 0).mean() * 100\n",
    "    \n",
    "    \n",
    "    return average_profit, ci_lower, ci_upper, risk_loss\n",
    "\n",
    "#use the bootstrap_profit function for each region\n",
    "regions = [(predictions_0_valid, target_0_valid, 'Region 0'), (predictions_1_valid, target_1_valid, 'Region 1'), (predictions_2_valid, target_2_valid, 'Region 2')]\n",
    "bootstrap_results = []\n",
    "\n",
    "for predictions, targets, region_name in regions:\n",
    "    boot_profits = bootstrap_profit(predictions, targets, cost_per_well)\n",
    "    average_profit, ci_lower, ci_upper, risk_loss = analyze_profits(boot_profits)\n",
    "    \n",
    "    bootstrap_results.append((region_name, average_profit, ci_lower, ci_upper, risk_loss))\n",
    "    \n",
    "print(\"\\n--- Regional Profit Analysis ---\\n\")\n",
    "for region_name, average_profit, ci_lower, ci_upper, risk_loss in bootstrap_results:\n",
    "    print(f\"{region_name}:\")\n",
    "    print(f\" Average Profit: ${average_profit:,.2f}\")\n",
    "    print(f\" 95% Confidence Interval: ${ci_lower:,.2f}, ${ci_upper:,.2f}\")\n",
    "    print(f\" Risk of Loss: {risk_loss:,.2f}%\\n\")"
   ]
  },
  {
   "cell_type": "markdown",
   "metadata": {},
   "source": [
    "# Conclusion\n",
    "\n",
    "We began this task by downloading three datasets of oil samples in three different regions. We checked for missing values, duplicates, and other problems with the data. We removed the unnecessary columns and then looked at the distribution of the volume of oil reserves in each dataframe. We found no inidication of outliers or other anomalies in the data.\n",
    "\n",
    "We then split the data into training and validation sets in order to train a linear regression model for each region. We found that the model for Region 1 was the most accurately performing model, but all of the models predicted mean volumes of reserves that were similar to the actual mean volume.\n",
    "\n",
    "Using the budget conditions, we found that the volume of reserves sufficient for developing a new well without losses is 111.11 thousand barrels. Region 2 had the closest average volume of reserves to reach that break-even amount with 95 thousand barrels.\n",
    "\n",
    "We then calculated the predicted profit for each region using the 200 top performing wells in each region. Region 0 has the highest profit produced in its top 200 wells at an estimated $34,240,263.20.\n",
    "\n",
    "And finally, we used the bootstrap technique with 1000 samples to find the distribution of profit.\n",
    "\n",
    "After our analysis, we would recommend Region 1 as the region to develop more oil wells. While Region 0 has the greatest profit produced in its top 200 wells, Regions 0 and 2 have a risk of loss greater than 2.5 percent. Region 1 has the highest average profit, and the risk of loss for Region 1 is below 2.5 percent. These predictions seem valid as the model RSME for Region 1 was also the best at 0.89 showing that these predictions are valuable."
   ]
  }
 ],
 "metadata": {
  "ExecuteTimeLog": [
   {
    "duration": 2813,
    "start_time": "2025-01-02T20:55:19.556Z"
   },
   {
    "duration": 115,
    "start_time": "2025-01-02T21:00:02.145Z"
   },
   {
    "duration": 277,
    "start_time": "2025-01-02T21:01:24.713Z"
   },
   {
    "duration": 12,
    "start_time": "2025-01-02T21:01:49.202Z"
   },
   {
    "duration": 11,
    "start_time": "2025-01-02T21:02:00.136Z"
   },
   {
    "duration": 11,
    "start_time": "2025-01-02T21:02:42.575Z"
   },
   {
    "duration": 7,
    "start_time": "2025-01-02T21:02:48.873Z"
   },
   {
    "duration": 12,
    "start_time": "2025-01-02T21:03:13.333Z"
   },
   {
    "duration": 9,
    "start_time": "2025-01-02T21:03:22.471Z"
   },
   {
    "duration": 225,
    "start_time": "2025-01-02T21:04:38.679Z"
   },
   {
    "duration": 4,
    "start_time": "2025-01-02T21:04:45.372Z"
   },
   {
    "duration": 8,
    "start_time": "2025-01-02T21:04:53.055Z"
   },
   {
    "duration": 33,
    "start_time": "2025-01-02T21:06:28.483Z"
   },
   {
    "duration": 30,
    "start_time": "2025-01-02T21:06:42.311Z"
   },
   {
    "duration": 31,
    "start_time": "2025-01-02T21:06:50.692Z"
   },
   {
    "duration": 13,
    "start_time": "2025-01-02T21:23:42.424Z"
   },
   {
    "duration": 12,
    "start_time": "2025-01-02T21:25:20.154Z"
   },
   {
    "duration": 421,
    "start_time": "2025-01-02T21:30:30.426Z"
   },
   {
    "duration": 10,
    "start_time": "2025-01-02T21:31:50.164Z"
   },
   {
    "duration": 383,
    "start_time": "2025-01-02T21:33:08.212Z"
   },
   {
    "duration": 8,
    "start_time": "2025-01-02T21:33:56.296Z"
   },
   {
    "duration": 1003,
    "start_time": "2025-01-02T21:34:15.768Z"
   },
   {
    "duration": 234,
    "start_time": "2025-01-02T21:34:16.774Z"
   },
   {
    "duration": 13,
    "start_time": "2025-01-02T21:34:17.010Z"
   },
   {
    "duration": 10,
    "start_time": "2025-01-02T21:34:17.026Z"
   },
   {
    "duration": 11,
    "start_time": "2025-01-02T21:34:17.038Z"
   },
   {
    "duration": 37,
    "start_time": "2025-01-02T21:34:17.050Z"
   },
   {
    "duration": 11,
    "start_time": "2025-01-02T21:34:17.089Z"
   },
   {
    "duration": 8,
    "start_time": "2025-01-02T21:34:17.103Z"
   },
   {
    "duration": 34,
    "start_time": "2025-01-02T21:34:17.112Z"
   },
   {
    "duration": 55,
    "start_time": "2025-01-02T21:34:17.147Z"
   },
   {
    "duration": 29,
    "start_time": "2025-01-02T21:34:17.204Z"
   },
   {
    "duration": 14,
    "start_time": "2025-01-02T21:34:17.234Z"
   },
   {
    "duration": 4,
    "start_time": "2025-01-02T21:51:38.865Z"
   },
   {
    "duration": 10,
    "start_time": "2025-01-02T21:56:15.665Z"
   },
   {
    "duration": 10,
    "start_time": "2025-01-02T22:01:28.326Z"
   },
   {
    "duration": 4,
    "start_time": "2025-01-02T22:05:25.294Z"
   },
   {
    "duration": 3169,
    "start_time": "2025-01-06T22:33:57.536Z"
   },
   {
    "duration": 333,
    "start_time": "2025-01-06T22:34:00.708Z"
   },
   {
    "duration": 12,
    "start_time": "2025-01-06T22:34:01.043Z"
   },
   {
    "duration": 10,
    "start_time": "2025-01-06T22:34:04.988Z"
   },
   {
    "duration": 14,
    "start_time": "2025-01-06T22:34:09.769Z"
   },
   {
    "duration": 8,
    "start_time": "2025-01-06T22:34:12.810Z"
   },
   {
    "duration": 12,
    "start_time": "2025-01-06T22:34:14.623Z"
   },
   {
    "duration": 11,
    "start_time": "2025-01-06T22:34:18.427Z"
   },
   {
    "duration": 33,
    "start_time": "2025-01-06T22:34:19.686Z"
   },
   {
    "duration": 39,
    "start_time": "2025-01-06T22:34:20.404Z"
   },
   {
    "duration": 31,
    "start_time": "2025-01-06T22:34:21.329Z"
   },
   {
    "duration": 15,
    "start_time": "2025-01-06T22:34:24.375Z"
   },
   {
    "duration": 961,
    "start_time": "2025-01-06T22:38:04.388Z"
   },
   {
    "duration": 5,
    "start_time": "2025-01-07T00:01:28.584Z"
   },
   {
    "duration": 9,
    "start_time": "2025-01-07T00:01:29.682Z"
   },
   {
    "duration": 10,
    "start_time": "2025-01-07T00:01:30.479Z"
   },
   {
    "duration": 4,
    "start_time": "2025-01-07T00:01:43.594Z"
   },
   {
    "duration": 3,
    "start_time": "2025-01-07T00:18:28.766Z"
   },
   {
    "duration": 4,
    "start_time": "2025-01-07T00:19:09.975Z"
   },
   {
    "duration": 4,
    "start_time": "2025-01-07T00:30:09.653Z"
   },
   {
    "duration": 11,
    "start_time": "2025-01-07T00:30:43.020Z"
   },
   {
    "duration": 2740,
    "start_time": "2025-01-07T04:41:19.368Z"
   },
   {
    "duration": 270,
    "start_time": "2025-01-07T04:41:22.111Z"
   },
   {
    "duration": 11,
    "start_time": "2025-01-07T04:41:22.383Z"
   },
   {
    "duration": 9,
    "start_time": "2025-01-07T04:41:22.396Z"
   },
   {
    "duration": 24,
    "start_time": "2025-01-07T04:41:22.407Z"
   },
   {
    "duration": 9,
    "start_time": "2025-01-07T04:41:22.433Z"
   },
   {
    "duration": 13,
    "start_time": "2025-01-07T04:41:22.444Z"
   },
   {
    "duration": 8,
    "start_time": "2025-01-07T04:41:22.459Z"
   },
   {
    "duration": 63,
    "start_time": "2025-01-07T04:41:22.469Z"
   },
   {
    "duration": 32,
    "start_time": "2025-01-07T04:41:22.534Z"
   },
   {
    "duration": 30,
    "start_time": "2025-01-07T04:41:22.568Z"
   },
   {
    "duration": 31,
    "start_time": "2025-01-07T04:41:22.601Z"
   },
   {
    "duration": 3,
    "start_time": "2025-01-07T04:41:22.634Z"
   },
   {
    "duration": 10,
    "start_time": "2025-01-07T04:41:22.640Z"
   },
   {
    "duration": 10,
    "start_time": "2025-01-07T04:41:22.651Z"
   },
   {
    "duration": 5,
    "start_time": "2025-01-07T04:41:22.666Z"
   },
   {
    "duration": 6,
    "start_time": "2025-01-07T04:41:22.734Z"
   },
   {
    "duration": 89,
    "start_time": "2025-01-07T04:41:22.743Z"
   },
   {
    "duration": 10,
    "start_time": "2025-01-07T04:42:39.520Z"
   },
   {
    "duration": 4,
    "start_time": "2025-01-07T04:43:09.334Z"
   },
   {
    "duration": 5,
    "start_time": "2025-01-07T04:43:53.035Z"
   },
   {
    "duration": 5,
    "start_time": "2025-01-07T04:44:30.780Z"
   },
   {
    "duration": 10,
    "start_time": "2025-01-07T04:45:09.060Z"
   },
   {
    "duration": 9,
    "start_time": "2025-01-07T04:45:52.533Z"
   },
   {
    "duration": 4,
    "start_time": "2025-01-07T04:46:23.728Z"
   },
   {
    "duration": 4,
    "start_time": "2025-01-07T04:46:56.504Z"
   },
   {
    "duration": 5,
    "start_time": "2025-01-07T04:50:28.155Z"
   },
   {
    "duration": 4,
    "start_time": "2025-01-07T04:50:54.200Z"
   },
   {
    "duration": 5,
    "start_time": "2025-01-07T04:51:06.744Z"
   },
   {
    "duration": 2,
    "start_time": "2025-01-07T05:15:16.457Z"
   },
   {
    "duration": 352,
    "start_time": "2025-01-07T05:16:43.717Z"
   },
   {
    "duration": 3,
    "start_time": "2025-01-07T05:16:48.984Z"
   },
   {
    "duration": 4,
    "start_time": "2025-01-07T05:17:02.424Z"
   },
   {
    "duration": 5,
    "start_time": "2025-01-07T05:20:57.324Z"
   },
   {
    "duration": 21,
    "start_time": "2025-01-07T05:50:46.383Z"
   },
   {
    "duration": 36,
    "start_time": "2025-01-07T05:52:09.108Z"
   },
   {
    "duration": 8,
    "start_time": "2025-01-07T05:59:27.134Z"
   },
   {
    "duration": 9,
    "start_time": "2025-01-07T05:59:39.444Z"
   },
   {
    "duration": 3,
    "start_time": "2025-01-07T06:05:25.506Z"
   },
   {
    "duration": 10,
    "start_time": "2025-01-07T06:10:19.426Z"
   },
   {
    "duration": 10,
    "start_time": "2025-01-07T06:12:10.458Z"
   },
   {
    "duration": 7,
    "start_time": "2025-01-07T06:18:11.213Z"
   },
   {
    "duration": 6,
    "start_time": "2025-01-07T06:18:42.274Z"
   },
   {
    "duration": 6,
    "start_time": "2025-01-07T06:20:13.631Z"
   },
   {
    "duration": 9,
    "start_time": "2025-01-07T06:21:17.523Z"
   },
   {
    "duration": 10,
    "start_time": "2025-01-07T06:32:49.751Z"
   },
   {
    "duration": 4,
    "start_time": "2025-01-07T06:33:05.045Z"
   },
   {
    "duration": 3,
    "start_time": "2025-01-07T06:41:49.134Z"
   },
   {
    "duration": 41,
    "start_time": "2025-01-07T06:58:16.247Z"
   },
   {
    "duration": 29,
    "start_time": "2025-01-07T06:58:43.616Z"
   },
   {
    "duration": 4,
    "start_time": "2025-01-07T07:03:32.590Z"
   },
   {
    "duration": 4,
    "start_time": "2025-01-07T07:04:04.467Z"
   },
   {
    "duration": 16,
    "start_time": "2025-01-07T07:04:18.041Z"
   },
   {
    "duration": 4,
    "start_time": "2025-01-07T07:04:43.919Z"
   },
   {
    "duration": 5,
    "start_time": "2025-01-07T07:06:10.152Z"
   },
   {
    "duration": 6,
    "start_time": "2025-01-07T07:06:34.267Z"
   },
   {
    "duration": 4,
    "start_time": "2025-01-07T07:06:42.771Z"
   },
   {
    "duration": 5,
    "start_time": "2025-01-07T07:06:56.514Z"
   },
   {
    "duration": 4,
    "start_time": "2025-01-07T07:07:33.521Z"
   },
   {
    "duration": 33,
    "start_time": "2025-01-07T07:09:55.507Z"
   },
   {
    "duration": 34,
    "start_time": "2025-01-07T07:11:26.183Z"
   },
   {
    "duration": 3,
    "start_time": "2025-01-07T07:13:00.114Z"
   },
   {
    "duration": 5,
    "start_time": "2025-01-07T07:13:19.239Z"
   },
   {
    "duration": 29,
    "start_time": "2025-01-07T07:13:48.332Z"
   },
   {
    "duration": 30,
    "start_time": "2025-01-07T07:14:12.398Z"
   },
   {
    "duration": 34,
    "start_time": "2025-01-07T07:22:35.489Z"
   },
   {
    "duration": 4,
    "start_time": "2025-01-07T07:22:40.090Z"
   },
   {
    "duration": 32,
    "start_time": "2025-01-07T07:23:52.155Z"
   },
   {
    "duration": 5,
    "start_time": "2025-01-07T07:23:56.415Z"
   },
   {
    "duration": 155,
    "start_time": "2025-01-07T21:21:09.650Z"
   },
   {
    "duration": 2693,
    "start_time": "2025-01-07T21:21:27.697Z"
   },
   {
    "duration": 265,
    "start_time": "2025-01-07T21:21:30.393Z"
   },
   {
    "duration": 12,
    "start_time": "2025-01-07T21:21:30.660Z"
   },
   {
    "duration": 11,
    "start_time": "2025-01-07T21:21:30.673Z"
   },
   {
    "duration": 10,
    "start_time": "2025-01-07T21:21:30.685Z"
   },
   {
    "duration": 33,
    "start_time": "2025-01-07T21:21:30.697Z"
   },
   {
    "duration": 10,
    "start_time": "2025-01-07T21:21:30.732Z"
   },
   {
    "duration": 7,
    "start_time": "2025-01-07T21:21:30.744Z"
   },
   {
    "duration": 31,
    "start_time": "2025-01-07T21:21:30.753Z"
   },
   {
    "duration": 58,
    "start_time": "2025-01-07T21:21:30.786Z"
   },
   {
    "duration": 28,
    "start_time": "2025-01-07T21:21:30.846Z"
   },
   {
    "duration": 12,
    "start_time": "2025-01-07T21:21:30.876Z"
   },
   {
    "duration": 4,
    "start_time": "2025-01-07T21:21:30.889Z"
   },
   {
    "duration": 32,
    "start_time": "2025-01-07T21:21:30.898Z"
   },
   {
    "duration": 11,
    "start_time": "2025-01-07T21:21:30.932Z"
   },
   {
    "duration": 6,
    "start_time": "2025-01-07T21:21:30.948Z"
   },
   {
    "duration": 66,
    "start_time": "2025-01-07T21:21:30.958Z"
   },
   {
    "duration": 13,
    "start_time": "2025-01-07T21:21:31.026Z"
   },
   {
    "duration": 9,
    "start_time": "2025-01-07T21:21:31.041Z"
   },
   {
    "duration": 4,
    "start_time": "2025-01-07T21:21:31.125Z"
   },
   {
    "duration": 5,
    "start_time": "2025-01-07T21:21:31.131Z"
   },
   {
    "duration": 84,
    "start_time": "2025-01-07T21:21:31.140Z"
   },
   {
    "duration": 10,
    "start_time": "2025-01-07T21:21:31.226Z"
   },
   {
    "duration": 3,
    "start_time": "2025-01-07T21:21:31.237Z"
   },
   {
    "duration": 4,
    "start_time": "2025-01-07T21:21:31.242Z"
   },
   {
    "duration": 4,
    "start_time": "2025-01-07T21:21:31.247Z"
   },
   {
    "duration": 71,
    "start_time": "2025-01-07T21:21:31.253Z"
   },
   {
    "duration": 2,
    "start_time": "2025-01-07T21:21:31.326Z"
   },
   {
    "duration": 4,
    "start_time": "2025-01-07T21:21:31.329Z"
   },
   {
    "duration": 4,
    "start_time": "2025-01-07T21:21:31.335Z"
   },
   {
    "duration": 10,
    "start_time": "2025-01-07T21:21:31.341Z"
   },
   {
    "duration": 6,
    "start_time": "2025-01-07T21:21:31.353Z"
   },
   {
    "duration": 6,
    "start_time": "2025-01-07T21:21:31.424Z"
   },
   {
    "duration": 7,
    "start_time": "2025-01-07T21:21:31.432Z"
   },
   {
    "duration": 5,
    "start_time": "2025-01-07T21:21:31.441Z"
   },
   {
    "duration": 6,
    "start_time": "2025-01-07T21:21:31.447Z"
   },
   {
    "duration": 0,
    "start_time": "2025-01-07T21:21:31.455Z"
   },
   {
    "duration": 0,
    "start_time": "2025-01-07T21:21:31.457Z"
   },
   {
    "duration": 0,
    "start_time": "2025-01-07T21:21:31.458Z"
   },
   {
    "duration": 9,
    "start_time": "2025-01-07T21:29:15.278Z"
   },
   {
    "duration": 4,
    "start_time": "2025-01-07T21:29:20.241Z"
   },
   {
    "duration": 12,
    "start_time": "2025-01-07T21:29:26.808Z"
   },
   {
    "duration": 4,
    "start_time": "2025-01-07T21:29:28.515Z"
   },
   {
    "duration": 4,
    "start_time": "2025-01-07T21:29:48.010Z"
   },
   {
    "duration": 4,
    "start_time": "2025-01-07T21:30:03.431Z"
   },
   {
    "duration": 14,
    "start_time": "2025-01-07T21:30:09.456Z"
   },
   {
    "duration": 4,
    "start_time": "2025-01-07T21:30:13.360Z"
   },
   {
    "duration": 289,
    "start_time": "2025-01-07T21:39:44.989Z"
   },
   {
    "duration": 18,
    "start_time": "2025-01-07T21:40:29.899Z"
   },
   {
    "duration": 28,
    "start_time": "2025-01-07T21:45:48.839Z"
   },
   {
    "duration": 4,
    "start_time": "2025-01-07T21:45:55.737Z"
   },
   {
    "duration": 280,
    "start_time": "2025-01-07T21:54:00.406Z"
   },
   {
    "duration": 2,
    "start_time": "2025-01-07T21:59:08.848Z"
   },
   {
    "duration": 95,
    "start_time": "2025-01-07T22:20:32.184Z"
   },
   {
    "duration": 85,
    "start_time": "2025-01-07T22:21:31.418Z"
   },
   {
    "duration": 85,
    "start_time": "2025-01-07T22:22:32.870Z"
   },
   {
    "duration": 177,
    "start_time": "2025-01-07T22:25:29.729Z"
   },
   {
    "duration": 5,
    "start_time": "2025-01-07T22:27:16.269Z"
   },
   {
    "duration": 940,
    "start_time": "2025-01-07T22:30:24.852Z"
   },
   {
    "duration": 947,
    "start_time": "2025-01-07T22:31:33.253Z"
   },
   {
    "duration": 947,
    "start_time": "2025-01-07T22:31:46.496Z"
   },
   {
    "duration": 950,
    "start_time": "2025-01-07T22:32:30.724Z"
   },
   {
    "duration": 931,
    "start_time": "2025-01-07T22:43:30.142Z"
   },
   {
    "duration": 1045,
    "start_time": "2025-01-07T22:43:58.174Z"
   },
   {
    "duration": 959,
    "start_time": "2025-01-07T22:44:39.144Z"
   },
   {
    "duration": 934,
    "start_time": "2025-01-07T22:45:02.767Z"
   },
   {
    "duration": 5,
    "start_time": "2025-01-07T22:49:16.620Z"
   },
   {
    "duration": 4,
    "start_time": "2025-01-07T22:49:25.660Z"
   },
   {
    "duration": 4,
    "start_time": "2025-01-07T22:49:32.124Z"
   },
   {
    "duration": 4,
    "start_time": "2025-01-07T22:49:41.445Z"
   },
   {
    "duration": 4,
    "start_time": "2025-01-07T22:49:47.910Z"
   },
   {
    "duration": 4,
    "start_time": "2025-01-07T22:50:41.767Z"
   },
   {
    "duration": 6,
    "start_time": "2025-01-07T22:56:31.219Z"
   },
   {
    "duration": 4,
    "start_time": "2025-01-07T22:56:38.001Z"
   },
   {
    "duration": 4,
    "start_time": "2025-01-07T22:57:11.448Z"
   },
   {
    "duration": 1010,
    "start_time": "2025-01-07T23:36:25.814Z"
   },
   {
    "duration": 256,
    "start_time": "2025-01-07T23:36:26.826Z"
   },
   {
    "duration": 17,
    "start_time": "2025-01-07T23:36:27.084Z"
   },
   {
    "duration": 22,
    "start_time": "2025-01-07T23:36:27.103Z"
   },
   {
    "duration": 13,
    "start_time": "2025-01-07T23:36:27.128Z"
   },
   {
    "duration": 12,
    "start_time": "2025-01-07T23:36:27.143Z"
   },
   {
    "duration": 15,
    "start_time": "2025-01-07T23:36:27.156Z"
   },
   {
    "duration": 8,
    "start_time": "2025-01-07T23:36:27.173Z"
   },
   {
    "duration": 62,
    "start_time": "2025-01-07T23:36:27.184Z"
   },
   {
    "duration": 31,
    "start_time": "2025-01-07T23:36:27.248Z"
   },
   {
    "duration": 45,
    "start_time": "2025-01-07T23:36:27.281Z"
   },
   {
    "duration": 17,
    "start_time": "2025-01-07T23:36:27.328Z"
   },
   {
    "duration": 6,
    "start_time": "2025-01-07T23:36:27.349Z"
   },
   {
    "duration": 14,
    "start_time": "2025-01-07T23:36:27.357Z"
   },
   {
    "duration": 14,
    "start_time": "2025-01-07T23:36:27.373Z"
   },
   {
    "duration": 6,
    "start_time": "2025-01-07T23:36:27.424Z"
   },
   {
    "duration": 23,
    "start_time": "2025-01-07T23:36:27.432Z"
   },
   {
    "duration": 15,
    "start_time": "2025-01-07T23:36:27.530Z"
   },
   {
    "duration": 17,
    "start_time": "2025-01-07T23:36:27.547Z"
   },
   {
    "duration": 5,
    "start_time": "2025-01-07T23:36:27.566Z"
   },
   {
    "duration": 5,
    "start_time": "2025-01-07T23:36:27.573Z"
   },
   {
    "duration": 24,
    "start_time": "2025-01-07T23:36:27.632Z"
   },
   {
    "duration": 70,
    "start_time": "2025-01-07T23:36:27.658Z"
   },
   {
    "duration": 4,
    "start_time": "2025-01-07T23:36:27.731Z"
   },
   {
    "duration": 10,
    "start_time": "2025-01-07T23:36:27.737Z"
   },
   {
    "duration": 11,
    "start_time": "2025-01-07T23:36:27.751Z"
   },
   {
    "duration": 62,
    "start_time": "2025-01-07T23:36:27.764Z"
   },
   {
    "duration": 5,
    "start_time": "2025-01-07T23:36:27.831Z"
   },
   {
    "duration": 4,
    "start_time": "2025-01-07T23:36:27.837Z"
   },
   {
    "duration": 6,
    "start_time": "2025-01-07T23:36:27.843Z"
   },
   {
    "duration": 9,
    "start_time": "2025-01-07T23:36:27.851Z"
   },
   {
    "duration": 7,
    "start_time": "2025-01-07T23:36:27.862Z"
   },
   {
    "duration": 7,
    "start_time": "2025-01-07T23:36:27.871Z"
   },
   {
    "duration": 44,
    "start_time": "2025-01-07T23:36:27.880Z"
   },
   {
    "duration": 12,
    "start_time": "2025-01-07T23:36:27.926Z"
   },
   {
    "duration": 1070,
    "start_time": "2025-01-07T23:36:27.942Z"
   },
   {
    "duration": 1042,
    "start_time": "2025-01-07T23:36:29.013Z"
   },
   {
    "duration": 1064,
    "start_time": "2025-01-07T23:36:30.057Z"
   },
   {
    "duration": 3025,
    "start_time": "2025-01-08T03:31:53.811Z"
   },
   {
    "duration": 324,
    "start_time": "2025-01-08T03:31:56.839Z"
   },
   {
    "duration": 15,
    "start_time": "2025-01-08T03:31:57.172Z"
   },
   {
    "duration": 12,
    "start_time": "2025-01-08T03:31:57.190Z"
   },
   {
    "duration": 13,
    "start_time": "2025-01-08T03:31:57.204Z"
   },
   {
    "duration": 7,
    "start_time": "2025-01-08T03:31:57.219Z"
   },
   {
    "duration": 12,
    "start_time": "2025-01-08T03:31:57.228Z"
   },
   {
    "duration": 35,
    "start_time": "2025-01-08T03:31:57.242Z"
   },
   {
    "duration": 37,
    "start_time": "2025-01-08T03:31:57.279Z"
   },
   {
    "duration": 31,
    "start_time": "2025-01-08T03:31:57.319Z"
   },
   {
    "duration": 33,
    "start_time": "2025-01-08T03:31:57.371Z"
   },
   {
    "duration": 15,
    "start_time": "2025-01-08T03:31:57.405Z"
   },
   {
    "duration": 3,
    "start_time": "2025-01-08T03:31:57.422Z"
   },
   {
    "duration": 10,
    "start_time": "2025-01-08T03:31:57.427Z"
   },
   {
    "duration": 45,
    "start_time": "2025-01-08T03:31:57.439Z"
   },
   {
    "duration": 4,
    "start_time": "2025-01-08T03:31:57.486Z"
   },
   {
    "duration": 5,
    "start_time": "2025-01-08T03:31:57.492Z"
   },
   {
    "duration": 71,
    "start_time": "2025-01-08T03:31:57.499Z"
   },
   {
    "duration": 11,
    "start_time": "2025-01-08T03:31:57.572Z"
   },
   {
    "duration": 4,
    "start_time": "2025-01-08T03:31:57.585Z"
   },
   {
    "duration": 7,
    "start_time": "2025-01-08T03:31:57.592Z"
   },
   {
    "duration": 15,
    "start_time": "2025-01-08T03:31:57.670Z"
   },
   {
    "duration": 11,
    "start_time": "2025-01-08T03:31:57.687Z"
   },
   {
    "duration": 3,
    "start_time": "2025-01-08T03:31:57.700Z"
   },
   {
    "duration": 156,
    "start_time": "2025-01-08T21:13:11.924Z"
   },
   {
    "duration": 2651,
    "start_time": "2025-01-08T21:13:16.518Z"
   },
   {
    "duration": 294,
    "start_time": "2025-01-08T21:13:20.225Z"
   },
   {
    "duration": 12,
    "start_time": "2025-01-08T21:47:25.738Z"
   },
   {
    "duration": 10,
    "start_time": "2025-01-08T21:47:30.322Z"
   },
   {
    "duration": 12,
    "start_time": "2025-01-08T21:47:34.013Z"
   },
   {
    "duration": 7,
    "start_time": "2025-01-08T21:47:37.777Z"
   },
   {
    "duration": 13,
    "start_time": "2025-01-08T21:47:44.245Z"
   },
   {
    "duration": 8,
    "start_time": "2025-01-08T21:47:54.616Z"
   },
   {
    "duration": 32,
    "start_time": "2025-01-08T21:48:04.180Z"
   },
   {
    "duration": 36,
    "start_time": "2025-01-08T21:48:06.446Z"
   },
   {
    "duration": 31,
    "start_time": "2025-01-08T21:48:09.396Z"
   },
   {
    "duration": 15,
    "start_time": "2025-01-08T21:48:49.902Z"
   },
   {
    "duration": 4,
    "start_time": "2025-01-08T21:52:40.394Z"
   },
   {
    "duration": 123,
    "start_time": "2025-01-08T21:52:57.905Z"
   },
   {
    "duration": 188,
    "start_time": "2025-01-08T21:53:11.634Z"
   },
   {
    "duration": 127,
    "start_time": "2025-01-08T21:58:56.436Z"
   },
   {
    "duration": 133,
    "start_time": "2025-01-08T22:04:04.388Z"
   },
   {
    "duration": 154,
    "start_time": "2025-01-08T22:04:28.147Z"
   },
   {
    "duration": 122,
    "start_time": "2025-01-08T22:04:46.753Z"
   },
   {
    "duration": 130,
    "start_time": "2025-01-08T22:05:07.667Z"
   },
   {
    "duration": 137,
    "start_time": "2025-01-08T22:05:19.139Z"
   },
   {
    "duration": 134,
    "start_time": "2025-01-08T22:05:36.213Z"
   },
   {
    "duration": 155,
    "start_time": "2025-01-08T22:07:20.108Z"
   },
   {
    "duration": 275,
    "start_time": "2025-01-08T22:07:45.695Z"
   },
   {
    "duration": 151,
    "start_time": "2025-01-08T22:08:13.150Z"
   },
   {
    "duration": 170,
    "start_time": "2025-01-08T22:17:27.479Z"
   },
   {
    "duration": 161,
    "start_time": "2025-01-08T22:17:31.881Z"
   },
   {
    "duration": 157,
    "start_time": "2025-01-08T22:18:03.515Z"
   },
   {
    "duration": 168,
    "start_time": "2025-01-08T22:19:54.654Z"
   },
   {
    "duration": 87,
    "start_time": "2025-01-08T22:20:42.442Z"
   },
   {
    "duration": 14,
    "start_time": "2025-01-08T22:22:00.362Z"
   },
   {
    "duration": 155,
    "start_time": "2025-01-08T22:22:11.078Z"
   },
   {
    "duration": 173,
    "start_time": "2025-01-08T22:22:49.292Z"
   },
   {
    "duration": 443,
    "start_time": "2025-01-08T22:23:34.454Z"
   },
   {
    "duration": 498,
    "start_time": "2025-01-08T22:25:27.107Z"
   },
   {
    "duration": 600,
    "start_time": "2025-01-08T22:25:45.051Z"
   },
   {
    "duration": 2668,
    "start_time": "2025-01-09T01:24:16.457Z"
   },
   {
    "duration": 292,
    "start_time": "2025-01-09T01:24:19.127Z"
   },
   {
    "duration": 19,
    "start_time": "2025-01-09T01:24:19.421Z"
   },
   {
    "duration": 10,
    "start_time": "2025-01-09T01:24:19.441Z"
   },
   {
    "duration": 10,
    "start_time": "2025-01-09T01:24:19.453Z"
   },
   {
    "duration": 7,
    "start_time": "2025-01-09T01:24:19.471Z"
   },
   {
    "duration": 11,
    "start_time": "2025-01-09T01:24:19.480Z"
   },
   {
    "duration": 7,
    "start_time": "2025-01-09T01:24:19.492Z"
   },
   {
    "duration": 32,
    "start_time": "2025-01-09T01:24:19.501Z"
   },
   {
    "duration": 58,
    "start_time": "2025-01-09T01:24:19.537Z"
   },
   {
    "duration": 35,
    "start_time": "2025-01-09T01:24:19.597Z"
   },
   {
    "duration": 14,
    "start_time": "2025-01-09T01:24:19.634Z"
   },
   {
    "duration": 560,
    "start_time": "2025-01-09T01:24:19.669Z"
   },
   {
    "duration": 461,
    "start_time": "2025-01-09T01:24:20.232Z"
   },
   {
    "duration": 476,
    "start_time": "2025-01-09T01:24:20.695Z"
   },
   {
    "duration": 4,
    "start_time": "2025-01-09T01:24:21.173Z"
   },
   {
    "duration": 10,
    "start_time": "2025-01-09T01:24:21.178Z"
   },
   {
    "duration": 15,
    "start_time": "2025-01-09T01:24:21.190Z"
   },
   {
    "duration": 4,
    "start_time": "2025-01-09T01:24:21.207Z"
   },
   {
    "duration": 57,
    "start_time": "2025-01-09T01:24:21.214Z"
   },
   {
    "duration": 12,
    "start_time": "2025-01-09T01:24:21.273Z"
   },
   {
    "duration": 84,
    "start_time": "2025-01-09T01:24:21.286Z"
   },
   {
    "duration": 20,
    "start_time": "2025-01-09T01:24:21.372Z"
   },
   {
    "duration": 74,
    "start_time": "2025-01-09T01:24:21.397Z"
   },
   {
    "duration": 11,
    "start_time": "2025-01-09T01:24:21.473Z"
   },
   {
    "duration": 11,
    "start_time": "2025-01-09T01:24:21.486Z"
   },
   {
    "duration": 4,
    "start_time": "2025-01-09T01:24:21.499Z"
   },
   {
    "duration": 5,
    "start_time": "2025-01-09T01:24:21.508Z"
   },
   {
    "duration": 12,
    "start_time": "2025-01-09T01:24:21.570Z"
   },
   {
    "duration": 9,
    "start_time": "2025-01-09T01:24:21.584Z"
   },
   {
    "duration": 3,
    "start_time": "2025-01-09T01:24:21.595Z"
   },
   {
    "duration": 5,
    "start_time": "2025-01-09T01:24:21.600Z"
   },
   {
    "duration": 6,
    "start_time": "2025-01-09T01:24:21.607Z"
   },
   {
    "duration": 9,
    "start_time": "2025-01-09T01:24:21.670Z"
   },
   {
    "duration": 6,
    "start_time": "2025-01-09T01:24:21.681Z"
   },
   {
    "duration": 6,
    "start_time": "2025-01-09T01:24:21.689Z"
   },
   {
    "duration": 7,
    "start_time": "2025-01-09T01:24:21.697Z"
   },
   {
    "duration": 5,
    "start_time": "2025-01-09T01:24:21.705Z"
   },
   {
    "duration": 972,
    "start_time": "2025-01-09T01:24:21.711Z"
   },
   {
    "duration": 943,
    "start_time": "2025-01-09T01:24:22.685Z"
   },
   {
    "duration": 913,
    "start_time": "2025-01-09T01:24:23.631Z"
   },
   {
    "duration": 582,
    "start_time": "2025-01-09T01:34:15.463Z"
   },
   {
    "duration": 1382,
    "start_time": "2025-01-09T01:34:28.549Z"
   },
   {
    "duration": 1303,
    "start_time": "2025-01-09T01:34:59.528Z"
   },
   {
    "duration": 239,
    "start_time": "2025-01-09T01:37:41.989Z"
   },
   {
    "duration": 1525,
    "start_time": "2025-01-09T01:38:22.255Z"
   },
   {
    "duration": 1613,
    "start_time": "2025-01-09T01:39:24.657Z"
   },
   {
    "duration": 432,
    "start_time": "2025-01-09T01:39:49.227Z"
   },
   {
    "duration": 5,
    "start_time": "2025-01-09T02:07:28.990Z"
   },
   {
    "duration": 3,
    "start_time": "2025-01-09T02:07:43.287Z"
   },
   {
    "duration": 10,
    "start_time": "2025-01-09T02:07:45.432Z"
   },
   {
    "duration": 12,
    "start_time": "2025-01-09T02:07:47.761Z"
   },
   {
    "duration": 4,
    "start_time": "2025-01-09T02:07:51.242Z"
   },
   {
    "duration": 4,
    "start_time": "2025-01-09T02:08:02.276Z"
   },
   {
    "duration": 11,
    "start_time": "2025-01-09T02:08:03.022Z"
   },
   {
    "duration": 9,
    "start_time": "2025-01-09T02:08:04.022Z"
   },
   {
    "duration": 4,
    "start_time": "2025-01-09T02:08:05.699Z"
   },
   {
    "duration": 3,
    "start_time": "2025-01-09T02:08:13.890Z"
   },
   {
    "duration": 11,
    "start_time": "2025-01-09T02:08:14.772Z"
   },
   {
    "duration": 14,
    "start_time": "2025-01-09T02:08:16.460Z"
   },
   {
    "duration": 4,
    "start_time": "2025-01-09T02:08:18.346Z"
   },
   {
    "duration": 4,
    "start_time": "2025-01-09T02:21:06.202Z"
   },
   {
    "duration": 4,
    "start_time": "2025-01-09T02:21:07.138Z"
   },
   {
    "duration": 5,
    "start_time": "2025-01-09T02:21:10.790Z"
   },
   {
    "duration": 2,
    "start_time": "2025-01-09T02:26:34.201Z"
   },
   {
    "duration": 4,
    "start_time": "2025-01-09T02:26:36.165Z"
   },
   {
    "duration": 5,
    "start_time": "2025-01-09T02:26:38.537Z"
   },
   {
    "duration": 237,
    "start_time": "2025-01-09T02:45:47.204Z"
   },
   {
    "duration": 7,
    "start_time": "2025-01-09T02:49:23.665Z"
   },
   {
    "duration": 6,
    "start_time": "2025-01-09T02:50:11.933Z"
   },
   {
    "duration": 6,
    "start_time": "2025-01-09T02:53:07.497Z"
   },
   {
    "duration": 6,
    "start_time": "2025-01-09T02:54:22.818Z"
   },
   {
    "duration": 10,
    "start_time": "2025-01-09T02:55:48.541Z"
   },
   {
    "duration": 476,
    "start_time": "2025-01-09T03:16:52.782Z"
   },
   {
    "duration": 472,
    "start_time": "2025-01-09T03:17:06.594Z"
   },
   {
    "duration": 565,
    "start_time": "2025-01-09T03:17:19.094Z"
   },
   {
    "duration": 5,
    "start_time": "2025-01-09T03:55:53.325Z"
   },
   {
    "duration": 378,
    "start_time": "2025-01-09T04:14:10.773Z"
   },
   {
    "duration": 4,
    "start_time": "2025-01-09T04:14:48.720Z"
   },
   {
    "duration": 1074,
    "start_time": "2025-01-09T04:14:53.314Z"
   },
   {
    "duration": 974,
    "start_time": "2025-01-09T04:15:38.156Z"
   },
   {
    "duration": 224,
    "start_time": "2025-01-09T04:15:39.132Z"
   },
   {
    "duration": 18,
    "start_time": "2025-01-09T04:15:39.358Z"
   },
   {
    "duration": 10,
    "start_time": "2025-01-09T04:15:39.378Z"
   },
   {
    "duration": 11,
    "start_time": "2025-01-09T04:15:39.389Z"
   },
   {
    "duration": 7,
    "start_time": "2025-01-09T04:15:39.401Z"
   },
   {
    "duration": 10,
    "start_time": "2025-01-09T04:15:39.410Z"
   },
   {
    "duration": 7,
    "start_time": "2025-01-09T04:15:39.421Z"
   },
   {
    "duration": 68,
    "start_time": "2025-01-09T04:15:39.430Z"
   },
   {
    "duration": 30,
    "start_time": "2025-01-09T04:15:39.501Z"
   },
   {
    "duration": 49,
    "start_time": "2025-01-09T04:15:39.533Z"
   },
   {
    "duration": 14,
    "start_time": "2025-01-09T04:15:39.584Z"
   },
   {
    "duration": 522,
    "start_time": "2025-01-09T04:15:39.600Z"
   },
   {
    "duration": 467,
    "start_time": "2025-01-09T04:15:40.124Z"
   },
   {
    "duration": 493,
    "start_time": "2025-01-09T04:15:40.593Z"
   },
   {
    "duration": 6,
    "start_time": "2025-01-09T04:15:41.088Z"
   },
   {
    "duration": 10,
    "start_time": "2025-01-09T04:15:41.095Z"
   },
   {
    "duration": 9,
    "start_time": "2025-01-09T04:15:41.107Z"
   },
   {
    "duration": 7,
    "start_time": "2025-01-09T04:15:41.119Z"
   },
   {
    "duration": 6,
    "start_time": "2025-01-09T04:15:41.173Z"
   },
   {
    "duration": 12,
    "start_time": "2025-01-09T04:15:41.181Z"
   },
   {
    "duration": 83,
    "start_time": "2025-01-09T04:15:41.194Z"
   },
   {
    "duration": 4,
    "start_time": "2025-01-09T04:15:41.279Z"
   },
   {
    "duration": 5,
    "start_time": "2025-01-09T04:15:41.285Z"
   },
   {
    "duration": 88,
    "start_time": "2025-01-09T04:15:41.291Z"
   },
   {
    "duration": 12,
    "start_time": "2025-01-09T04:15:41.382Z"
   },
   {
    "duration": 4,
    "start_time": "2025-01-09T04:15:41.396Z"
   },
   {
    "duration": 67,
    "start_time": "2025-01-09T04:15:41.405Z"
   },
   {
    "duration": 7,
    "start_time": "2025-01-09T04:15:41.474Z"
   },
   {
    "duration": 6,
    "start_time": "2025-01-09T04:15:41.483Z"
   },
   {
    "duration": 2,
    "start_time": "2025-01-09T04:15:41.491Z"
   },
   {
    "duration": 78,
    "start_time": "2025-01-09T04:15:41.495Z"
   },
   {
    "duration": 5,
    "start_time": "2025-01-09T04:15:41.574Z"
   },
   {
    "duration": 10,
    "start_time": "2025-01-09T04:15:41.581Z"
   },
   {
    "duration": 5,
    "start_time": "2025-01-09T04:15:41.592Z"
   },
   {
    "duration": 273,
    "start_time": "2025-01-09T04:15:41.598Z"
   },
   {
    "duration": 4,
    "start_time": "2025-01-09T04:17:13.410Z"
   },
   {
    "duration": 1111,
    "start_time": "2025-01-09T04:17:26.688Z"
   },
   {
    "duration": 4,
    "start_time": "2025-01-09T04:22:13.710Z"
   },
   {
    "duration": 4,
    "start_time": "2025-01-09T04:22:23.720Z"
   },
   {
    "duration": 4,
    "start_time": "2025-01-09T04:22:33.876Z"
   },
   {
    "duration": 4,
    "start_time": "2025-01-09T04:23:10.474Z"
   },
   {
    "duration": 4,
    "start_time": "2025-01-09T04:23:48.747Z"
   },
   {
    "duration": 1081,
    "start_time": "2025-01-09T04:23:54.057Z"
   },
   {
    "duration": 3,
    "start_time": "2025-01-09T04:26:00.205Z"
   },
   {
    "duration": 3,
    "start_time": "2025-01-09T04:31:40.468Z"
   },
   {
    "duration": 2,
    "start_time": "2025-01-09T04:33:10.375Z"
   },
   {
    "duration": 27,
    "start_time": "2025-01-09T04:33:21.213Z"
   },
   {
    "duration": 3,
    "start_time": "2025-01-09T04:33:54.223Z"
   },
   {
    "duration": 27,
    "start_time": "2025-01-09T04:34:50.929Z"
   },
   {
    "duration": 5,
    "start_time": "2025-01-09T04:40:11.808Z"
   },
   {
    "duration": 3004,
    "start_time": "2025-01-09T04:40:18.413Z"
   },
   {
    "duration": 1051,
    "start_time": "2025-01-09T04:41:16.676Z"
   },
   {
    "duration": 221,
    "start_time": "2025-01-09T04:41:17.729Z"
   },
   {
    "duration": 12,
    "start_time": "2025-01-09T04:41:17.952Z"
   },
   {
    "duration": 13,
    "start_time": "2025-01-09T04:41:17.970Z"
   },
   {
    "duration": 11,
    "start_time": "2025-01-09T04:41:17.986Z"
   },
   {
    "duration": 7,
    "start_time": "2025-01-09T04:41:17.998Z"
   },
   {
    "duration": 11,
    "start_time": "2025-01-09T04:41:18.006Z"
   },
   {
    "duration": 6,
    "start_time": "2025-01-09T04:41:18.019Z"
   },
   {
    "duration": 60,
    "start_time": "2025-01-09T04:41:18.027Z"
   },
   {
    "duration": 29,
    "start_time": "2025-01-09T04:41:18.089Z"
   },
   {
    "duration": 33,
    "start_time": "2025-01-09T04:41:18.119Z"
   },
   {
    "duration": 28,
    "start_time": "2025-01-09T04:41:18.153Z"
   },
   {
    "duration": 501,
    "start_time": "2025-01-09T04:41:18.184Z"
   },
   {
    "duration": 454,
    "start_time": "2025-01-09T04:41:18.690Z"
   },
   {
    "duration": 497,
    "start_time": "2025-01-09T04:41:19.145Z"
   },
   {
    "duration": 4,
    "start_time": "2025-01-09T04:41:19.644Z"
   },
   {
    "duration": 23,
    "start_time": "2025-01-09T04:41:19.650Z"
   },
   {
    "duration": 11,
    "start_time": "2025-01-09T04:41:19.674Z"
   },
   {
    "duration": 4,
    "start_time": "2025-01-09T04:41:19.687Z"
   },
   {
    "duration": 5,
    "start_time": "2025-01-09T04:41:19.692Z"
   },
   {
    "duration": 71,
    "start_time": "2025-01-09T04:41:19.699Z"
   },
   {
    "duration": 14,
    "start_time": "2025-01-09T04:41:19.772Z"
   },
   {
    "duration": 3,
    "start_time": "2025-01-09T04:41:19.788Z"
   },
   {
    "duration": 5,
    "start_time": "2025-01-09T04:41:19.870Z"
   },
   {
    "duration": 13,
    "start_time": "2025-01-09T04:41:19.877Z"
   },
   {
    "duration": 10,
    "start_time": "2025-01-09T04:41:19.891Z"
   },
   {
    "duration": 71,
    "start_time": "2025-01-09T04:41:19.903Z"
   },
   {
    "duration": 6,
    "start_time": "2025-01-09T04:41:19.976Z"
   },
   {
    "duration": 6,
    "start_time": "2025-01-09T04:41:19.984Z"
   },
   {
    "duration": 82,
    "start_time": "2025-01-09T04:41:19.992Z"
   },
   {
    "duration": 3,
    "start_time": "2025-01-09T04:41:20.075Z"
   },
   {
    "duration": 3,
    "start_time": "2025-01-09T04:41:20.080Z"
   },
   {
    "duration": 5,
    "start_time": "2025-01-09T04:41:20.084Z"
   },
   {
    "duration": 28,
    "start_time": "2025-01-09T04:41:20.090Z"
   },
   {
    "duration": 4,
    "start_time": "2025-01-09T04:41:20.120Z"
   },
   {
    "duration": 3067,
    "start_time": "2025-01-09T04:41:20.126Z"
   },
   {
    "duration": 27,
    "start_time": "2025-01-09T04:42:35.042Z"
   },
   {
    "duration": 28,
    "start_time": "2025-01-09T04:42:45.617Z"
   },
   {
    "duration": 252,
    "start_time": "2025-01-09T04:46:35.876Z"
   },
   {
    "duration": 27,
    "start_time": "2025-01-09T04:47:19.233Z"
   },
   {
    "duration": 17,
    "start_time": "2025-01-09T04:47:52.825Z"
   },
   {
    "duration": 15,
    "start_time": "2025-01-09T04:48:00.283Z"
   },
   {
    "duration": 14,
    "start_time": "2025-01-09T04:48:08.719Z"
   },
   {
    "duration": 2647,
    "start_time": "2025-01-10T00:23:59.437Z"
   },
   {
    "duration": 298,
    "start_time": "2025-01-10T00:24:02.086Z"
   },
   {
    "duration": 12,
    "start_time": "2025-01-10T00:24:02.385Z"
   },
   {
    "duration": 14,
    "start_time": "2025-01-10T00:24:02.400Z"
   },
   {
    "duration": 10,
    "start_time": "2025-01-10T00:24:02.415Z"
   },
   {
    "duration": 6,
    "start_time": "2025-01-10T00:24:02.427Z"
   },
   {
    "duration": 11,
    "start_time": "2025-01-10T00:24:02.435Z"
   },
   {
    "duration": 6,
    "start_time": "2025-01-10T00:24:02.448Z"
   },
   {
    "duration": 65,
    "start_time": "2025-01-10T00:24:02.456Z"
   },
   {
    "duration": 28,
    "start_time": "2025-01-10T00:24:02.525Z"
   },
   {
    "duration": 31,
    "start_time": "2025-01-10T00:24:02.555Z"
   },
   {
    "duration": 31,
    "start_time": "2025-01-10T00:24:02.587Z"
   },
   {
    "duration": 498,
    "start_time": "2025-01-10T00:24:02.619Z"
   },
   {
    "duration": 478,
    "start_time": "2025-01-10T00:24:03.118Z"
   },
   {
    "duration": 569,
    "start_time": "2025-01-10T00:24:03.598Z"
   },
   {
    "duration": 3,
    "start_time": "2025-01-10T00:24:04.169Z"
   },
   {
    "duration": 10,
    "start_time": "2025-01-10T00:24:04.174Z"
   },
   {
    "duration": 27,
    "start_time": "2025-01-10T00:24:04.185Z"
   },
   {
    "duration": 4,
    "start_time": "2025-01-10T00:24:04.213Z"
   },
   {
    "duration": 4,
    "start_time": "2025-01-10T00:24:04.219Z"
   },
   {
    "duration": 11,
    "start_time": "2025-01-10T00:24:04.224Z"
   },
   {
    "duration": 8,
    "start_time": "2025-01-10T00:24:04.311Z"
   },
   {
    "duration": 4,
    "start_time": "2025-01-10T00:24:04.321Z"
   },
   {
    "duration": 3,
    "start_time": "2025-01-10T00:24:04.327Z"
   },
   {
    "duration": 80,
    "start_time": "2025-01-10T00:24:04.332Z"
   },
   {
    "duration": 10,
    "start_time": "2025-01-10T00:24:04.414Z"
   },
   {
    "duration": 3,
    "start_time": "2025-01-10T00:24:04.426Z"
   },
   {
    "duration": 79,
    "start_time": "2025-01-10T00:24:04.435Z"
   },
   {
    "duration": 4,
    "start_time": "2025-01-10T00:24:04.516Z"
   },
   {
    "duration": 4,
    "start_time": "2025-01-10T00:24:04.521Z"
   },
   {
    "duration": 3,
    "start_time": "2025-01-10T00:24:04.528Z"
   },
   {
    "duration": 3,
    "start_time": "2025-01-10T00:24:04.533Z"
   },
   {
    "duration": 5,
    "start_time": "2025-01-10T00:24:04.538Z"
   },
   {
    "duration": 82,
    "start_time": "2025-01-10T00:24:04.544Z"
   },
   {
    "duration": 4,
    "start_time": "2025-01-10T00:24:04.627Z"
   },
   {
    "duration": 1898,
    "start_time": "2025-01-10T00:24:04.633Z"
   },
   {
    "duration": 4,
    "start_time": "2025-01-10T00:44:12.902Z"
   },
   {
    "duration": 251,
    "start_time": "2025-01-10T00:44:20.512Z"
   },
   {
    "duration": 8,
    "start_time": "2025-01-10T00:45:21.539Z"
   },
   {
    "duration": 30,
    "start_time": "2025-01-10T00:45:55.544Z"
   },
   {
    "duration": 26,
    "start_time": "2025-01-10T00:47:36.518Z"
   },
   {
    "duration": 27,
    "start_time": "2025-01-10T00:48:37.108Z"
   },
   {
    "duration": 15,
    "start_time": "2025-01-10T00:48:57.562Z"
   },
   {
    "duration": 15,
    "start_time": "2025-01-10T00:50:40.569Z"
   },
   {
    "duration": 15,
    "start_time": "2025-01-10T00:53:29.513Z"
   },
   {
    "duration": 15,
    "start_time": "2025-01-10T00:54:56.739Z"
   },
   {
    "duration": 16,
    "start_time": "2025-01-10T00:55:59.962Z"
   },
   {
    "duration": 16,
    "start_time": "2025-01-10T00:56:27.882Z"
   },
   {
    "duration": 9,
    "start_time": "2025-01-10T01:06:43.669Z"
   },
   {
    "duration": 24,
    "start_time": "2025-01-10T01:06:56.539Z"
   },
   {
    "duration": 30,
    "start_time": "2025-01-10T01:07:24.682Z"
   },
   {
    "duration": 15,
    "start_time": "2025-01-10T01:09:03.943Z"
   },
   {
    "duration": 3,
    "start_time": "2025-01-10T01:19:12.561Z"
   },
   {
    "duration": 3,
    "start_time": "2025-01-10T01:19:40.319Z"
   },
   {
    "duration": 314,
    "start_time": "2025-01-10T01:20:24.792Z"
   },
   {
    "duration": 60,
    "start_time": "2025-01-10T01:21:17.118Z"
   },
   {
    "duration": 3,
    "start_time": "2025-01-10T01:22:57.951Z"
   },
   {
    "duration": 3,
    "start_time": "2025-01-10T01:23:24.896Z"
   },
   {
    "duration": 59,
    "start_time": "2025-01-10T01:23:29.483Z"
   },
   {
    "duration": 4,
    "start_time": "2025-01-10T01:24:44.104Z"
   },
   {
    "duration": 59,
    "start_time": "2025-01-10T01:24:47.479Z"
   },
   {
    "duration": 4,
    "start_time": "2025-01-10T01:25:18.374Z"
   },
   {
    "duration": 59,
    "start_time": "2025-01-10T01:25:22.635Z"
   },
   {
    "duration": 2607,
    "start_time": "2025-01-10T03:17:04.502Z"
   },
   {
    "duration": 333,
    "start_time": "2025-01-10T03:17:07.111Z"
   },
   {
    "duration": 12,
    "start_time": "2025-01-10T03:17:07.446Z"
   },
   {
    "duration": 9,
    "start_time": "2025-01-10T03:17:07.461Z"
   },
   {
    "duration": 10,
    "start_time": "2025-01-10T03:17:07.472Z"
   },
   {
    "duration": 34,
    "start_time": "2025-01-10T03:17:07.483Z"
   },
   {
    "duration": 13,
    "start_time": "2025-01-10T03:17:07.519Z"
   },
   {
    "duration": 7,
    "start_time": "2025-01-10T03:17:07.533Z"
   },
   {
    "duration": 35,
    "start_time": "2025-01-10T03:17:07.541Z"
   },
   {
    "duration": 57,
    "start_time": "2025-01-10T03:17:07.579Z"
   },
   {
    "duration": 30,
    "start_time": "2025-01-10T03:17:07.638Z"
   },
   {
    "duration": 13,
    "start_time": "2025-01-10T03:17:07.670Z"
   },
   {
    "duration": 510,
    "start_time": "2025-01-10T03:17:07.685Z"
   },
   {
    "duration": 473,
    "start_time": "2025-01-10T03:17:08.197Z"
   },
   {
    "duration": 544,
    "start_time": "2025-01-10T03:17:08.672Z"
   },
   {
    "duration": 3,
    "start_time": "2025-01-10T03:17:09.218Z"
   },
   {
    "duration": 10,
    "start_time": "2025-01-10T03:17:09.223Z"
   },
   {
    "duration": 9,
    "start_time": "2025-01-10T03:17:09.235Z"
   },
   {
    "duration": 4,
    "start_time": "2025-01-10T03:17:09.245Z"
   },
   {
    "duration": 4,
    "start_time": "2025-01-10T03:17:09.250Z"
   },
   {
    "duration": 19,
    "start_time": "2025-01-10T03:17:09.309Z"
   },
   {
    "duration": 80,
    "start_time": "2025-01-10T03:17:09.330Z"
   },
   {
    "duration": 4,
    "start_time": "2025-01-10T03:17:09.412Z"
   },
   {
    "duration": 3,
    "start_time": "2025-01-10T03:17:09.417Z"
   },
   {
    "duration": 87,
    "start_time": "2025-01-10T03:17:09.422Z"
   },
   {
    "duration": 16,
    "start_time": "2025-01-10T03:17:09.511Z"
   },
   {
    "duration": 9,
    "start_time": "2025-01-10T03:17:09.530Z"
   },
   {
    "duration": 4,
    "start_time": "2025-01-10T03:17:09.545Z"
   },
   {
    "duration": 5,
    "start_time": "2025-01-10T03:17:09.610Z"
   },
   {
    "duration": 5,
    "start_time": "2025-01-10T03:17:09.618Z"
   },
   {
    "duration": 3,
    "start_time": "2025-01-10T03:17:09.624Z"
   },
   {
    "duration": 3,
    "start_time": "2025-01-10T03:17:09.629Z"
   },
   {
    "duration": 5,
    "start_time": "2025-01-10T03:17:09.634Z"
   },
   {
    "duration": 76,
    "start_time": "2025-01-10T03:17:09.640Z"
   },
   {
    "duration": 3,
    "start_time": "2025-01-10T03:17:09.718Z"
   },
   {
    "duration": 456,
    "start_time": "2025-01-10T03:17:09.723Z"
   },
   {
    "duration": 4,
    "start_time": "2025-01-10T03:20:06.141Z"
   },
   {
    "duration": 4,
    "start_time": "2025-01-10T03:24:19.239Z"
   },
   {
    "duration": 3,
    "start_time": "2025-01-10T03:26:05.673Z"
   },
   {
    "duration": 131,
    "start_time": "2025-01-10T03:33:26.100Z"
   },
   {
    "duration": 6,
    "start_time": "2025-01-10T03:34:53.681Z"
   },
   {
    "duration": 63,
    "start_time": "2025-01-10T03:35:06.314Z"
   },
   {
    "duration": 72,
    "start_time": "2025-01-10T03:37:58.411Z"
   },
   {
    "duration": 7,
    "start_time": "2025-01-10T03:46:28.393Z"
   },
   {
    "duration": 64,
    "start_time": "2025-01-10T03:46:56.180Z"
   },
   {
    "duration": 4,
    "start_time": "2025-01-10T03:50:47.467Z"
   },
   {
    "duration": 4,
    "start_time": "2025-01-10T03:50:56.660Z"
   },
   {
    "duration": 3,
    "start_time": "2025-01-10T03:51:28.138Z"
   },
   {
    "duration": 3,
    "start_time": "2025-01-10T03:51:35.019Z"
   },
   {
    "duration": 3,
    "start_time": "2025-01-10T03:51:44.280Z"
   },
   {
    "duration": 398,
    "start_time": "2025-01-10T03:59:00.988Z"
   },
   {
    "duration": 47,
    "start_time": "2025-01-10T04:06:27.463Z"
   },
   {
    "duration": 17,
    "start_time": "2025-01-10T04:20:51.081Z"
   },
   {
    "duration": 18,
    "start_time": "2025-01-10T04:20:57.351Z"
   },
   {
    "duration": 208,
    "start_time": "2025-01-10T04:21:23.824Z"
   },
   {
    "duration": 1052,
    "start_time": "2025-01-10T04:26:20.231Z"
   },
   {
    "duration": 224,
    "start_time": "2025-01-10T04:26:21.286Z"
   },
   {
    "duration": 12,
    "start_time": "2025-01-10T04:26:21.512Z"
   },
   {
    "duration": 9,
    "start_time": "2025-01-10T04:26:21.526Z"
   },
   {
    "duration": 10,
    "start_time": "2025-01-10T04:26:21.537Z"
   },
   {
    "duration": 6,
    "start_time": "2025-01-10T04:26:21.549Z"
   },
   {
    "duration": 11,
    "start_time": "2025-01-10T04:26:21.557Z"
   },
   {
    "duration": 40,
    "start_time": "2025-01-10T04:26:21.570Z"
   },
   {
    "duration": 34,
    "start_time": "2025-01-10T04:26:21.611Z"
   },
   {
    "duration": 29,
    "start_time": "2025-01-10T04:26:21.649Z"
   },
   {
    "duration": 49,
    "start_time": "2025-01-10T04:26:21.680Z"
   },
   {
    "duration": 15,
    "start_time": "2025-01-10T04:26:21.731Z"
   },
   {
    "duration": 473,
    "start_time": "2025-01-10T04:26:21.747Z"
   },
   {
    "duration": 477,
    "start_time": "2025-01-10T04:26:22.222Z"
   },
   {
    "duration": 515,
    "start_time": "2025-01-10T04:26:22.701Z"
   },
   {
    "duration": 5,
    "start_time": "2025-01-10T04:26:23.218Z"
   },
   {
    "duration": 10,
    "start_time": "2025-01-10T04:26:23.225Z"
   },
   {
    "duration": 16,
    "start_time": "2025-01-10T04:26:23.237Z"
   },
   {
    "duration": 4,
    "start_time": "2025-01-10T04:26:23.255Z"
   },
   {
    "duration": 5,
    "start_time": "2025-01-10T04:26:23.310Z"
   },
   {
    "duration": 12,
    "start_time": "2025-01-10T04:26:23.317Z"
   },
   {
    "duration": 85,
    "start_time": "2025-01-10T04:26:23.331Z"
   },
   {
    "duration": 4,
    "start_time": "2025-01-10T04:26:23.417Z"
   },
   {
    "duration": 4,
    "start_time": "2025-01-10T04:26:23.423Z"
   },
   {
    "duration": 80,
    "start_time": "2025-01-10T04:26:23.429Z"
   },
   {
    "duration": 10,
    "start_time": "2025-01-10T04:26:23.511Z"
   },
   {
    "duration": 4,
    "start_time": "2025-01-10T04:26:23.522Z"
   },
   {
    "duration": 4,
    "start_time": "2025-01-10T04:26:23.531Z"
   },
   {
    "duration": 77,
    "start_time": "2025-01-10T04:26:23.536Z"
   },
   {
    "duration": 4,
    "start_time": "2025-01-10T04:26:23.615Z"
   },
   {
    "duration": 3,
    "start_time": "2025-01-10T04:26:23.621Z"
   },
   {
    "duration": 4,
    "start_time": "2025-01-10T04:26:23.625Z"
   },
   {
    "duration": 5,
    "start_time": "2025-01-10T04:26:23.631Z"
   },
   {
    "duration": 72,
    "start_time": "2025-01-10T04:26:23.637Z"
   },
   {
    "duration": 0,
    "start_time": "2025-01-10T04:30:58.521Z"
   },
   {
    "duration": 3785,
    "start_time": "2025-01-10T04:33:19.589Z"
   },
   {
    "duration": 3801,
    "start_time": "2025-01-10T04:33:50.715Z"
   },
   {
    "duration": 1307,
    "start_time": "2025-01-10T04:35:16.376Z"
   },
   {
    "duration": 3764,
    "start_time": "2025-01-10T04:36:08.052Z"
   },
   {
    "duration": 168,
    "start_time": "2025-01-10T05:03:08.658Z"
   },
   {
    "duration": 2728,
    "start_time": "2025-01-10T05:03:18.627Z"
   },
   {
    "duration": 301,
    "start_time": "2025-01-10T05:03:21.358Z"
   },
   {
    "duration": 12,
    "start_time": "2025-01-10T05:03:21.661Z"
   },
   {
    "duration": 10,
    "start_time": "2025-01-10T05:03:21.676Z"
   },
   {
    "duration": 23,
    "start_time": "2025-01-10T05:03:21.687Z"
   },
   {
    "duration": 8,
    "start_time": "2025-01-10T05:03:21.712Z"
   },
   {
    "duration": 11,
    "start_time": "2025-01-10T05:03:21.721Z"
   },
   {
    "duration": 7,
    "start_time": "2025-01-10T05:03:21.733Z"
   },
   {
    "duration": 35,
    "start_time": "2025-01-10T05:03:21.741Z"
   },
   {
    "duration": 55,
    "start_time": "2025-01-10T05:03:21.781Z"
   },
   {
    "duration": 32,
    "start_time": "2025-01-10T05:03:21.837Z"
   },
   {
    "duration": 14,
    "start_time": "2025-01-10T05:03:21.871Z"
   },
   {
    "duration": 523,
    "start_time": "2025-01-10T05:03:21.887Z"
   },
   {
    "duration": 479,
    "start_time": "2025-01-10T05:03:22.412Z"
   },
   {
    "duration": 484,
    "start_time": "2025-01-10T05:03:22.893Z"
   },
   {
    "duration": 3,
    "start_time": "2025-01-10T05:03:23.380Z"
   },
   {
    "duration": 10,
    "start_time": "2025-01-10T05:03:23.385Z"
   },
   {
    "duration": 9,
    "start_time": "2025-01-10T05:03:23.410Z"
   },
   {
    "duration": 4,
    "start_time": "2025-01-10T05:03:23.422Z"
   },
   {
    "duration": 3,
    "start_time": "2025-01-10T05:03:23.428Z"
   },
   {
    "duration": 77,
    "start_time": "2025-01-10T05:03:23.433Z"
   },
   {
    "duration": 10,
    "start_time": "2025-01-10T05:03:23.512Z"
   },
   {
    "duration": 3,
    "start_time": "2025-01-10T05:03:23.524Z"
   },
   {
    "duration": 3,
    "start_time": "2025-01-10T05:03:23.529Z"
   },
   {
    "duration": 14,
    "start_time": "2025-01-10T05:03:23.610Z"
   },
   {
    "duration": 12,
    "start_time": "2025-01-10T05:03:23.625Z"
   },
   {
    "duration": 69,
    "start_time": "2025-01-10T05:03:23.639Z"
   },
   {
    "duration": 6,
    "start_time": "2025-01-10T05:03:23.714Z"
   },
   {
    "duration": 5,
    "start_time": "2025-01-10T05:03:23.722Z"
   },
   {
    "duration": 81,
    "start_time": "2025-01-10T05:03:23.729Z"
   },
   {
    "duration": 3,
    "start_time": "2025-01-10T05:03:23.811Z"
   },
   {
    "duration": 4,
    "start_time": "2025-01-10T05:03:23.816Z"
   },
   {
    "duration": 5,
    "start_time": "2025-01-10T05:03:23.821Z"
   },
   {
    "duration": 15,
    "start_time": "2025-01-10T05:03:23.828Z"
   },
   {
    "duration": 4018,
    "start_time": "2025-01-10T05:03:23.844Z"
   },
   {
    "duration": 3670,
    "start_time": "2025-01-10T05:03:50.686Z"
   },
   {
    "duration": 3706,
    "start_time": "2025-01-10T05:04:51.955Z"
   },
   {
    "duration": 32,
    "start_time": "2025-01-10T05:12:31.486Z"
   },
   {
    "duration": 4049,
    "start_time": "2025-01-10T05:14:13.088Z"
   },
   {
    "duration": 11071,
    "start_time": "2025-01-10T05:20:30.278Z"
   },
   {
    "duration": 3733,
    "start_time": "2025-01-10T05:23:46.842Z"
   },
   {
    "duration": 11010,
    "start_time": "2025-01-10T05:24:55.803Z"
   },
   {
    "duration": 11292,
    "start_time": "2025-01-10T05:27:20.950Z"
   },
   {
    "duration": 11172,
    "start_time": "2025-01-10T05:28:27.802Z"
   },
   {
    "duration": 11134,
    "start_time": "2025-01-10T05:31:50.335Z"
   },
   {
    "duration": 11055,
    "start_time": "2025-01-10T05:39:51.445Z"
   },
   {
    "duration": 3,
    "start_time": "2025-01-10T05:47:10.150Z"
   },
   {
    "duration": 4,
    "start_time": "2025-01-10T05:47:22.221Z"
   },
   {
    "duration": 3,
    "start_time": "2025-01-10T05:48:18.428Z"
   },
   {
    "duration": 4,
    "start_time": "2025-01-10T05:48:21.117Z"
   },
   {
    "duration": 2,
    "start_time": "2025-01-10T05:48:39.790Z"
   },
   {
    "duration": 4,
    "start_time": "2025-01-10T05:48:41.868Z"
   },
   {
    "duration": 5,
    "start_time": "2025-01-10T05:48:45.976Z"
   },
   {
    "duration": 13,
    "start_time": "2025-01-10T06:04:45.837Z"
   },
   {
    "duration": 15,
    "start_time": "2025-01-10T06:13:19.310Z"
   },
   {
    "duration": 2648,
    "start_time": "2025-01-10T17:44:42.152Z"
   },
   {
    "duration": 294,
    "start_time": "2025-01-10T17:44:44.802Z"
   },
   {
    "duration": 12,
    "start_time": "2025-01-10T17:44:45.098Z"
   },
   {
    "duration": 9,
    "start_time": "2025-01-10T17:44:45.113Z"
   },
   {
    "duration": 10,
    "start_time": "2025-01-10T17:44:45.124Z"
   },
   {
    "duration": 7,
    "start_time": "2025-01-10T17:44:45.136Z"
   },
   {
    "duration": 12,
    "start_time": "2025-01-10T17:44:45.171Z"
   },
   {
    "duration": 7,
    "start_time": "2025-01-10T17:44:45.184Z"
   },
   {
    "duration": 34,
    "start_time": "2025-01-10T17:44:45.193Z"
   },
   {
    "duration": 55,
    "start_time": "2025-01-10T17:44:45.231Z"
   },
   {
    "duration": 33,
    "start_time": "2025-01-10T17:44:45.287Z"
   },
   {
    "duration": 13,
    "start_time": "2025-01-10T17:44:45.322Z"
   },
   {
    "duration": 552,
    "start_time": "2025-01-10T17:44:45.337Z"
   },
   {
    "duration": 491,
    "start_time": "2025-01-10T17:44:45.891Z"
   },
   {
    "duration": 498,
    "start_time": "2025-01-10T17:44:46.384Z"
   },
   {
    "duration": 6,
    "start_time": "2025-01-10T17:44:46.884Z"
   },
   {
    "duration": 9,
    "start_time": "2025-01-10T17:44:46.893Z"
   },
   {
    "duration": 10,
    "start_time": "2025-01-10T17:44:46.904Z"
   },
   {
    "duration": 6,
    "start_time": "2025-01-10T17:44:46.917Z"
   },
   {
    "duration": 53,
    "start_time": "2025-01-10T17:44:46.924Z"
   },
   {
    "duration": 15,
    "start_time": "2025-01-10T17:44:46.980Z"
   },
   {
    "duration": 13,
    "start_time": "2025-01-10T17:44:47.070Z"
   },
   {
    "duration": 7,
    "start_time": "2025-01-10T17:44:47.086Z"
   },
   {
    "duration": 5,
    "start_time": "2025-01-10T17:44:47.096Z"
   },
   {
    "duration": 84,
    "start_time": "2025-01-10T17:44:47.103Z"
   },
   {
    "duration": 12,
    "start_time": "2025-01-10T17:44:47.189Z"
   },
   {
    "duration": 4,
    "start_time": "2025-01-10T17:44:47.203Z"
   },
   {
    "duration": 6,
    "start_time": "2025-01-10T17:44:47.269Z"
   },
   {
    "duration": 7,
    "start_time": "2025-01-10T17:44:47.278Z"
   },
   {
    "duration": 82,
    "start_time": "2025-01-10T17:44:47.288Z"
   },
   {
    "duration": 4,
    "start_time": "2025-01-10T17:44:47.372Z"
   },
   {
    "duration": 5,
    "start_time": "2025-01-10T17:44:47.378Z"
   },
   {
    "duration": 4,
    "start_time": "2025-01-10T17:44:47.385Z"
   },
   {
    "duration": 17,
    "start_time": "2025-01-10T17:44:47.392Z"
   },
   {
    "duration": 11265,
    "start_time": "2025-01-10T17:44:47.411Z"
   },
   {
    "duration": 11245,
    "start_time": "2025-01-10T18:06:11.025Z"
   },
   {
    "duration": 3881,
    "start_time": "2025-01-10T18:10:15.924Z"
   },
   {
    "duration": 5720,
    "start_time": "2025-01-10T18:12:22.740Z"
   },
   {
    "duration": 10,
    "start_time": "2025-01-10T18:15:24.375Z"
   },
   {
    "duration": 7624,
    "start_time": "2025-01-10T18:15:37.408Z"
   },
   {
    "duration": 4834,
    "start_time": "2025-01-10T18:16:20.118Z"
   },
   {
    "duration": 4713,
    "start_time": "2025-01-10T18:16:36.371Z"
   },
   {
    "duration": 1476,
    "start_time": "2025-01-10T18:20:23.900Z"
   },
   {
    "duration": 23,
    "start_time": "2025-01-10T18:29:16.725Z"
   },
   {
    "duration": 20,
    "start_time": "2025-01-10T18:30:25.692Z"
   },
   {
    "duration": 18,
    "start_time": "2025-01-10T18:31:19.800Z"
   },
   {
    "duration": 1004,
    "start_time": "2025-01-10T18:32:04.529Z"
   },
   {
    "duration": 241,
    "start_time": "2025-01-10T18:32:05.536Z"
   },
   {
    "duration": 17,
    "start_time": "2025-01-10T18:32:05.779Z"
   },
   {
    "duration": 11,
    "start_time": "2025-01-10T18:32:05.798Z"
   },
   {
    "duration": 11,
    "start_time": "2025-01-10T18:32:05.811Z"
   },
   {
    "duration": 7,
    "start_time": "2025-01-10T18:32:05.824Z"
   },
   {
    "duration": 37,
    "start_time": "2025-01-10T18:32:05.833Z"
   },
   {
    "duration": 7,
    "start_time": "2025-01-10T18:32:05.872Z"
   },
   {
    "duration": 37,
    "start_time": "2025-01-10T18:32:05.881Z"
   },
   {
    "duration": 30,
    "start_time": "2025-01-10T18:32:05.920Z"
   },
   {
    "duration": 59,
    "start_time": "2025-01-10T18:32:05.952Z"
   },
   {
    "duration": 16,
    "start_time": "2025-01-10T18:32:06.013Z"
   },
   {
    "duration": 1469,
    "start_time": "2025-01-10T18:32:06.031Z"
   },
   {
    "duration": 24,
    "start_time": "2025-01-10T18:32:07.503Z"
   },
   {
    "duration": 60,
    "start_time": "2025-01-10T18:32:07.529Z"
   },
   {
    "duration": 109,
    "start_time": "2025-01-10T18:32:07.591Z"
   },
   {
    "duration": 4,
    "start_time": "2025-01-10T18:32:07.702Z"
   },
   {
    "duration": 61,
    "start_time": "2025-01-10T18:32:07.708Z"
   },
   {
    "duration": 5,
    "start_time": "2025-01-10T18:32:07.771Z"
   },
   {
    "duration": 3,
    "start_time": "2025-01-10T18:32:07.777Z"
   },
   {
    "duration": 5,
    "start_time": "2025-01-10T18:32:07.781Z"
   },
   {
    "duration": 8,
    "start_time": "2025-01-10T18:32:07.787Z"
   },
   {
    "duration": 78,
    "start_time": "2025-01-10T18:32:07.797Z"
   },
   {
    "duration": 3582,
    "start_time": "2025-01-10T18:32:07.877Z"
   },
   {
    "duration": 221,
    "start_time": "2025-01-10T20:05:13.855Z"
   },
   {
    "duration": 3064,
    "start_time": "2025-01-10T20:05:23.976Z"
   },
   {
    "duration": 374,
    "start_time": "2025-01-10T20:05:27.042Z"
   },
   {
    "duration": 13,
    "start_time": "2025-01-10T20:05:27.418Z"
   },
   {
    "duration": 34,
    "start_time": "2025-01-10T20:05:27.434Z"
   },
   {
    "duration": 11,
    "start_time": "2025-01-10T20:05:27.471Z"
   },
   {
    "duration": 7,
    "start_time": "2025-01-10T20:05:27.483Z"
   },
   {
    "duration": 12,
    "start_time": "2025-01-10T20:05:27.492Z"
   },
   {
    "duration": 6,
    "start_time": "2025-01-10T20:05:27.505Z"
   },
   {
    "duration": 55,
    "start_time": "2025-01-10T20:05:27.513Z"
   },
   {
    "duration": 34,
    "start_time": "2025-01-10T20:05:27.572Z"
   },
   {
    "duration": 36,
    "start_time": "2025-01-10T20:05:27.608Z"
   },
   {
    "duration": 18,
    "start_time": "2025-01-10T20:05:27.645Z"
   },
   {
    "duration": 1571,
    "start_time": "2025-01-10T20:05:27.664Z"
   },
   {
    "duration": 31,
    "start_time": "2025-01-10T20:05:29.236Z"
   },
   {
    "duration": 76,
    "start_time": "2025-01-10T20:05:29.269Z"
   },
   {
    "duration": 35,
    "start_time": "2025-01-10T20:05:29.347Z"
   },
   {
    "duration": 7,
    "start_time": "2025-01-10T20:05:29.385Z"
   },
   {
    "duration": 5,
    "start_time": "2025-01-10T20:05:29.443Z"
   },
   {
    "duration": 6,
    "start_time": "2025-01-10T20:05:29.451Z"
   },
   {
    "duration": 5,
    "start_time": "2025-01-10T20:05:29.458Z"
   },
   {
    "duration": 5,
    "start_time": "2025-01-10T20:05:29.465Z"
   },
   {
    "duration": 8,
    "start_time": "2025-01-10T20:05:29.472Z"
   },
   {
    "duration": 60,
    "start_time": "2025-01-10T20:05:29.483Z"
   },
   {
    "duration": 3813,
    "start_time": "2025-01-10T20:05:29.545Z"
   },
   {
    "duration": 3780,
    "start_time": "2025-01-10T20:36:19.781Z"
   },
   {
    "duration": 1165,
    "start_time": "2025-01-10T20:45:03.039Z"
   },
   {
    "duration": 275,
    "start_time": "2025-01-10T20:45:04.206Z"
   },
   {
    "duration": 12,
    "start_time": "2025-01-10T20:45:04.483Z"
   },
   {
    "duration": 9,
    "start_time": "2025-01-10T20:45:04.497Z"
   },
   {
    "duration": 9,
    "start_time": "2025-01-10T20:45:04.508Z"
   },
   {
    "duration": 6,
    "start_time": "2025-01-10T20:45:04.519Z"
   },
   {
    "duration": 23,
    "start_time": "2025-01-10T20:45:04.527Z"
   },
   {
    "duration": 17,
    "start_time": "2025-01-10T20:45:04.552Z"
   },
   {
    "duration": 37,
    "start_time": "2025-01-10T20:45:04.571Z"
   },
   {
    "duration": 57,
    "start_time": "2025-01-10T20:45:04.612Z"
   },
   {
    "duration": 37,
    "start_time": "2025-01-10T20:45:04.671Z"
   },
   {
    "duration": 13,
    "start_time": "2025-01-10T20:45:04.710Z"
   },
   {
    "duration": 1703,
    "start_time": "2025-01-10T20:45:04.725Z"
   },
   {
    "duration": 43,
    "start_time": "2025-01-10T20:45:06.430Z"
   },
   {
    "duration": 74,
    "start_time": "2025-01-10T20:45:06.474Z"
   },
   {
    "duration": 98,
    "start_time": "2025-01-10T20:45:06.550Z"
   },
   {
    "duration": 8,
    "start_time": "2025-01-10T20:45:06.650Z"
   },
   {
    "duration": 6,
    "start_time": "2025-01-10T20:45:06.661Z"
   },
   {
    "duration": 6,
    "start_time": "2025-01-10T20:45:06.669Z"
   },
   {
    "duration": 4,
    "start_time": "2025-01-10T20:45:06.677Z"
   },
   {
    "duration": 10,
    "start_time": "2025-01-10T20:45:06.683Z"
   },
   {
    "duration": 50,
    "start_time": "2025-01-10T20:45:06.694Z"
   },
   {
    "duration": 33,
    "start_time": "2025-01-10T20:45:06.746Z"
   },
   {
    "duration": 3661,
    "start_time": "2025-01-10T20:45:06.781Z"
   }
  ],
  "kernelspec": {
   "display_name": "base",
   "language": "python",
   "name": "python3"
  },
  "language_info": {
   "codemirror_mode": {
    "name": "ipython",
    "version": 3
   },
   "file_extension": ".py",
   "mimetype": "text/x-python",
   "name": "python",
   "nbconvert_exporter": "python",
   "pygments_lexer": "ipython3",
   "version": "3.12.4"
  },
  "toc": {
   "base_numbering": 1,
   "nav_menu": {},
   "number_sections": true,
   "sideBar": true,
   "skip_h1_title": true,
   "title_cell": "Table of Contents",
   "title_sidebar": "Contents",
   "toc_cell": false,
   "toc_position": {},
   "toc_section_display": true,
   "toc_window_display": false
  }
 },
 "nbformat": 4,
 "nbformat_minor": 2
}
